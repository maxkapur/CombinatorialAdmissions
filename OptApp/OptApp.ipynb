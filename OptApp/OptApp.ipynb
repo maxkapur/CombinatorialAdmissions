{
 "cells": [
  {
   "cell_type": "code",
   "execution_count": 1,
   "id": "d3cde359-6d43-407e-a4b5-f51ad456898a",
   "metadata": {},
   "outputs": [],
   "source": [
    "using Plots\n",
    "using Combinatorics: multiset_combinations\n",
    "using DataStructures\n",
    "import Base.isless"
   ]
  },
  {
   "cell_type": "code",
   "execution_count": 2,
   "id": "3faf70f2-87c4-4625-b138-1c51613e24ae",
   "metadata": {},
   "outputs": [
    {
     "data": {
      "text/plain": [
       "isless (generic function with 54 methods)"
      ]
     },
     "execution_count": 2,
     "metadata": {},
     "output_type": "execute_result"
    }
   ],
   "source": [
    "\"\"\"\n",
    "    College(f, t, ft)\n",
    "\n",
    "Contains a college's admissions probability `f`, utility value `t`, and their product `ft`.\n",
    "\"\"\"\n",
    "struct College\n",
    "    f::Float64\n",
    "    t::Float64\n",
    "    ft::Float64\n",
    "    \n",
    "    College(f::Float64, t::Float64) = new(f, t, f*t)\n",
    "end\n",
    "\n",
    "isless(c1::College, c2::College) = isless(c1.ft, c2.ft)"
   ]
  },
  {
   "cell_type": "code",
   "execution_count": 3,
   "id": "9521a522-7aba-42a9-864e-bf69b336e572",
   "metadata": {},
   "outputs": [
    {
     "data": {
      "text/plain": [
       "optimalportfolio_enumerate"
      ]
     },
     "execution_count": 3,
     "metadata": {},
     "output_type": "execute_result"
    }
   ],
   "source": [
    "\"\"\"\n",
    "    applicationorder(f, t)\n",
    "\n",
    "Produce the optimal order of application for the market defined by admissions probabilities `f`\n",
    "and utility values `t`. \n",
    "\"\"\"\n",
    "function applicationorder(f::Vector{Float64}, t::Vector{Float64})\n",
    "    m = length(f)\n",
    "    @assert m == length(t)\n",
    "    @assert issorted(t)\n",
    "\n",
    "    mkt = MutableBinaryMaxHeap{College}()\n",
    "    for j in 1:m\n",
    "        push!(mkt, College(f[j], t[j]))\n",
    "    end\n",
    "\n",
    "    onheap = trues(m)\n",
    "    apporder = zeros(Int, m)\n",
    "    for j in 1:m\n",
    "        c_k, k = top_with_handle(mkt)\n",
    "        pop!(mkt)\n",
    "        \n",
    "        apporder[j] = k\n",
    "        onheap[k] = false\n",
    "        for i in 1:k-1\n",
    "            onheap[i] && update!(mkt, i, College(mkt[i].f, mkt[i].t * (1 - c_k.f)))\n",
    "        end\n",
    "        for i in k+1:m\n",
    "            onheap[i] && update!(mkt, i, College(mkt[i].f, mkt[i].t - c_k.ft))\n",
    "        end\n",
    "    end\n",
    "    \n",
    "    return apporder\n",
    "end\n",
    "\n",
    "\n",
    "\"\"\"\n",
    "    valuation(X, f, t)\n",
    "\n",
    "Returns the expected value of the portfolio `X`, a vector of school indices, on the\n",
    "the market defined by admissions probabilities `f` and utility values `t`. \n",
    "\"\"\"\n",
    "function valuation(X::Vector{Int64}, f, t)\n",
    "    @assert issorted(t)\n",
    "    sort!(X)\n",
    "    h = length(X)\n",
    "    \n",
    "    if h > 1    \n",
    "        res = 0.0\n",
    "        cp = reverse(cumprod(1 .- reverse(f[X[2:end]])))\n",
    "    \n",
    "        for j in 1:h-1\n",
    "            res += t[X[j]] * f[X[j]] * cp[j]\n",
    "        end\n",
    "        \n",
    "        res += t[X[end]] * f[X[end]]\n",
    "        \n",
    "        return res\n",
    "    else\n",
    "        return f[X[1]] * t[X[1]]\n",
    "    end\n",
    "end\n",
    "\n",
    "\n",
    "\"\"\"\n",
    "    optimalportfolio_enumerate(h, f, t)\n",
    "\n",
    "Produce the optimal portfolio of size `h` on the market defined by admissions probabilities `f`\n",
    "and utility values `t`. Solves by enumeration. \n",
    "\"\"\"\n",
    "function optimalportfolio_enumerate(h, f::Vector{Float64}, t::Vector{Float64})\n",
    "    m = length(t)\n",
    "    X = zeros(Int, h)\n",
    "    v = 0.0\n",
    "    \n",
    "    for Y in multiset_combinations(1:m, h)\n",
    "        if (w = valuation(Y, f, t)) > v\n",
    "            v = w\n",
    "            X[:] = Y\n",
    "        end\n",
    "    end\n",
    "    \n",
    "    return X\n",
    "end"
   ]
  },
  {
   "cell_type": "code",
   "execution_count": 4,
   "id": "63506b58-1272-4b29-a89e-90dcf71dd667",
   "metadata": {},
   "outputs": [
    {
     "data": {
      "text/plain": [
       "plotsmaker (generic function with 1 method)"
      ]
     },
     "execution_count": 4,
     "metadata": {},
     "output_type": "execute_result"
    }
   ],
   "source": [
    "function plotsmaker()\n",
    "    m = length(t)\n",
    "    \n",
    "    pl = [plot(\n",
    "            xlabel=\"f\",\n",
    "            ylabel=\"t\",\n",
    "            size=(700, 700)\n",
    "            ) for i in 1:m+2]\n",
    "    \n",
    "    x = zeros(Bool, m, m)\n",
    "    \n",
    "    scatter!(pl[1], f, t, c=:darkslategray, ms=11, msw=0, msa=0, legend=nothing)\n",
    "    \n",
    "    for i in 1:m\n",
    "        x[optimalportfolio_enumerate(i, f, t), i] .= true\n",
    "        \n",
    "        scatter!(pl[i+1], f[.!x[:, i]], t[.!x[:, i]], c=:darkslategray, ms=11, msw=0, msa=0, label=nothing)\n",
    "        scatter!(pl[i+1], f[x[:, i]], t[x[:, i]], c=:orangered, ms=11, msw=0, msa=0, label=\"apply when h = $i\")\n",
    "    end\n",
    "    \n",
    "    apporder = sortperm(reshape(sum(x, dims=2), :), rev=true)\n",
    "    \n",
    "    scatter!(pl[end], f, t, c=:forestgreen, ms=13, msw=0, msa=0, legend=nothing)\n",
    "    annotate!(pl[end], [(f[i], t[i], text(\"$(apporder[i])\", 9, :white)) for i in 1:m])\n",
    "    \n",
    "    return pl, x, apporder\n",
    "end"
   ]
  },
  {
   "cell_type": "markdown",
   "id": "03bdda58-bd28-4b6f-b6ad-1dfabf641666",
   "metadata": {},
   "source": [
    "Solve an instance by enumeration, check that the results agree with the fast algorithm, produce a series of plots showing the nestedness property."
   ]
  },
  {
   "cell_type": "code",
   "execution_count": 7,
   "id": "d4e10c26-7a95-4a71-930b-b853b821dbe8",
   "metadata": {},
   "outputs": [
    {
     "name": "stdout",
     "output_type": "stream",
     "text": [
      "  6.925471 seconds (20.07 M allocations: 1.646 GiB, 5.07% gc time, 64.24% compilation time)\n",
      "Bool[0, 0, 0, 0, 0, 0, 0, 0, 0, 0, 0, 0, 0, 0, 0, 0, 0, 0, 1, 0]\n",
      "Bool[0, 0, 0, 0, 0, 0, 0, 0, 0, 0, 0, 0, 0, 0, 0, 0, 0, 0, 1, 1]\n",
      "Bool[0, 0, 0, 0, 0, 0, 0, 0, 0, 0, 1, 0, 0, 0, 0, 0, 0, 0, 1, 1]\n",
      "Bool[0, 0, 0, 0, 0, 0, 0, 0, 0, 0, 1, 0, 0, 0, 1, 0, 0, 0, 1, 1]\n",
      "Bool[0, 0, 0, 0, 0, 0, 0, 0, 0, 0, 1, 0, 1, 0, 1, 0, 0, 0, 1, 1]\n",
      "Bool[0, 0, 0, 0, 0, 0, 0, 0, 0, 0, 1, 0, 1, 0, 1, 1, 0, 0, 1, 1]\n",
      "Bool[0, 0, 0, 0, 0, 0, 0, 0, 0, 0, 1, 0, 1, 0, 1, 1, 1, 0, 1, 1]\n",
      "Bool[0, 0, 0, 0, 0, 0, 0, 0, 0, 0, 1, 0, 1, 0, 1, 1, 1, 1, 1, 1]\n",
      "Bool[0, 0, 0, 0, 0, 0, 0, 0, 0, 0, 1, 0, 1, 1, 1, 1, 1, 1, 1, 1]\n",
      "Bool[0, 0, 0, 0, 0, 0, 0, 0, 0, 0, 1, 1, 1, 1, 1, 1, 1, 1, 1, 1]\n",
      "Bool[0, 0, 0, 0, 0, 0, 0, 0, 0, 1, 1, 1, 1, 1, 1, 1, 1, 1, 1, 1]\n",
      "Bool[0, 0, 0, 0, 0, 0, 0, 1, 0, 1, 1, 1, 1, 1, 1, 1, 1, 1, 1, 1]\n",
      "Bool[0, 0, 0, 0, 0, 1, 0, 1, 0, 1, 1, 1, 1, 1, 1, 1, 1, 1, 1, 1]\n",
      "Bool[0, 0, 0, 0, 0, 1, 0, 1, 1, 1, 1, 1, 1, 1, 1, 1, 1, 1, 1, 1]\n",
      "Bool[0, 0, 0, 0, 0, 1, 1, 1, 1, 1, 1, 1, 1, 1, 1, 1, 1, 1, 1, 1]\n",
      "Bool[0, 0, 0, 1, 0, 1, 1, 1, 1, 1, 1, 1, 1, 1, 1, 1, 1, 1, 1, 1]\n",
      "Bool[0, 0, 0, 1, 1, 1, 1, 1, 1, 1, 1, 1, 1, 1, 1, 1, 1, 1, 1, 1]\n",
      "Bool[0, 0, 1, 1, 1, 1, 1, 1, 1, 1, 1, 1, 1, 1, 1, 1, 1, 1, 1, 1]\n",
      "Bool[0, 1, 1, 1, 1, 1, 1, 1, 1, 1, 1, 1, 1, 1, 1, 1, 1, 1, 1, 1]\n",
      "Bool[1, 1, 1, 1, 1, 1, 1, 1, 1, 1, 1, 1, 1, 1, 1, 1, 1, 1, 1, 1]\n"
     ]
    },
    {
     "data": {
      "text/plain": [
       "20×2 Matrix{Int64}:\n",
       " 19  19\n",
       " 20  20\n",
       " 11  11\n",
       " 15  15\n",
       " 13  13\n",
       " 16  16\n",
       " 17  17\n",
       " 18  18\n",
       " 14  14\n",
       " 12  12\n",
       " 10  10\n",
       "  8   8\n",
       "  6   6\n",
       "  9   9\n",
       "  7   7\n",
       "  4   4\n",
       "  5   5\n",
       "  3   3\n",
       "  2   2\n",
       "  1   1"
      ]
     },
     "execution_count": 7,
     "metadata": {},
     "output_type": "execute_result"
    }
   ],
   "source": [
    "m = 20\n",
    "\n",
    "φ = 0.7\n",
    "t = rand(m) |> sort\n",
    "f = 1 .- (φ*t + (1-φ)*rand(m))\n",
    "\n",
    "@time pl, x, apporder = plotsmaker()\n",
    "\n",
    "for c in eachcol(x)\n",
    "    println(c)\n",
    "end\n",
    "\n",
    "# for p in pl\n",
    "#     display(p)\n",
    "# end\n",
    "\n",
    "[apporder applicationorder(f, t)]"
   ]
  },
  {
   "cell_type": "code",
   "execution_count": 8,
   "id": "2a1c593d-a7ef-4651-861d-1fdc523fc82d",
   "metadata": {},
   "outputs": [
    {
     "data": {
      "image/svg+xml": [
       "<?xml version=\"1.0\" encoding=\"utf-8\"?>\n",
       "<svg xmlns=\"http://www.w3.org/2000/svg\" xmlns:xlink=\"http://www.w3.org/1999/xlink\" width=\"700\" height=\"700\" viewBox=\"0 0 2800 2800\">\n",
       "<defs>\n",
       "  <clipPath id=\"clip620\">\n",
       "    <rect x=\"0\" y=\"0\" width=\"2800\" height=\"2800\"/>\n",
       "  </clipPath>\n",
       "</defs>\n",
       "<path clip-path=\"url(#clip620)\" d=\"\n",
       "M0 2800 L2800 2800 L2800 0 L0 0  Z\n",
       "  \" fill=\"#ffffff\" fill-rule=\"evenodd\" fill-opacity=\"1\"/>\n",
       "<defs>\n",
       "  <clipPath id=\"clip621\">\n",
       "    <rect x=\"560\" y=\"280\" width=\"1961\" height=\"1961\"/>\n",
       "  </clipPath>\n",
       "</defs>\n",
       "<path clip-path=\"url(#clip620)\" d=\"\n",
       "M247.626 2570.14 L2752.76 2570.14 L2752.76 47.2441 L247.626 47.2441  Z\n",
       "  \" fill=\"#ffffff\" fill-rule=\"evenodd\" fill-opacity=\"1\"/>\n",
       "<defs>\n",
       "  <clipPath id=\"clip622\">\n",
       "    <rect x=\"247\" y=\"47\" width=\"2506\" height=\"2524\"/>\n",
       "  </clipPath>\n",
       "</defs>\n",
       "<polyline clip-path=\"url(#clip622)\" style=\"stroke:#000000; stroke-linecap:butt; stroke-linejoin:round; stroke-width:2; stroke-opacity:0.1; fill:none\" points=\"\n",
       "  615.293,2570.14 615.293,47.2441 \n",
       "  \"/>\n",
       "<polyline clip-path=\"url(#clip622)\" style=\"stroke:#000000; stroke-linecap:butt; stroke-linejoin:round; stroke-width:2; stroke-opacity:0.1; fill:none\" points=\"\n",
       "  1183.13,2570.14 1183.13,47.2441 \n",
       "  \"/>\n",
       "<polyline clip-path=\"url(#clip622)\" style=\"stroke:#000000; stroke-linecap:butt; stroke-linejoin:round; stroke-width:2; stroke-opacity:0.1; fill:none\" points=\"\n",
       "  1750.98,2570.14 1750.98,47.2441 \n",
       "  \"/>\n",
       "<polyline clip-path=\"url(#clip622)\" style=\"stroke:#000000; stroke-linecap:butt; stroke-linejoin:round; stroke-width:2; stroke-opacity:0.1; fill:none\" points=\"\n",
       "  2318.82,2570.14 2318.82,47.2441 \n",
       "  \"/>\n",
       "<polyline clip-path=\"url(#clip620)\" style=\"stroke:#000000; stroke-linecap:butt; stroke-linejoin:round; stroke-width:4; stroke-opacity:1; fill:none\" points=\"\n",
       "  247.626,2570.14 2752.76,2570.14 \n",
       "  \"/>\n",
       "<polyline clip-path=\"url(#clip620)\" style=\"stroke:#000000; stroke-linecap:butt; stroke-linejoin:round; stroke-width:4; stroke-opacity:1; fill:none\" points=\"\n",
       "  615.293,2570.14 615.293,2551.24 \n",
       "  \"/>\n",
       "<polyline clip-path=\"url(#clip620)\" style=\"stroke:#000000; stroke-linecap:butt; stroke-linejoin:round; stroke-width:4; stroke-opacity:1; fill:none\" points=\"\n",
       "  1183.13,2570.14 1183.13,2551.24 \n",
       "  \"/>\n",
       "<polyline clip-path=\"url(#clip620)\" style=\"stroke:#000000; stroke-linecap:butt; stroke-linejoin:round; stroke-width:4; stroke-opacity:1; fill:none\" points=\"\n",
       "  1750.98,2570.14 1750.98,2551.24 \n",
       "  \"/>\n",
       "<polyline clip-path=\"url(#clip620)\" style=\"stroke:#000000; stroke-linecap:butt; stroke-linejoin:round; stroke-width:4; stroke-opacity:1; fill:none\" points=\"\n",
       "  2318.82,2570.14 2318.82,2551.24 \n",
       "  \"/>\n",
       "<path clip-path=\"url(#clip620)\" d=\"M593.476 2604.26 Q589.865 2604.26 588.036 2607.82 Q586.23 2611.36 586.23 2618.49 Q586.23 2625.6 588.036 2629.17 Q589.865 2632.71 593.476 2632.71 Q597.11 2632.71 598.915 2629.17 Q600.744 2625.6 600.744 2618.49 Q600.744 2611.36 598.915 2607.82 Q597.11 2604.26 593.476 2604.26 M593.476 2600.55 Q599.286 2600.55 602.341 2605.16 Q605.42 2609.74 605.42 2618.49 Q605.42 2627.22 602.341 2631.83 Q599.286 2636.41 593.476 2636.41 Q587.665 2636.41 584.587 2631.83 Q581.531 2627.22 581.531 2618.49 Q581.531 2609.74 584.587 2605.16 Q587.665 2600.55 593.476 2600.55 Z\" fill=\"#000000\" fill-rule=\"evenodd\" fill-opacity=\"1\" /><path clip-path=\"url(#clip620)\" d=\"M613.638 2629.86 L618.522 2629.86 L618.522 2635.74 L613.638 2635.74 L613.638 2629.86 Z\" fill=\"#000000\" fill-rule=\"evenodd\" fill-opacity=\"1\" /><path clip-path=\"url(#clip620)\" d=\"M632.735 2631.8 L649.054 2631.8 L649.054 2635.74 L627.11 2635.74 L627.11 2631.8 Q629.772 2629.05 634.355 2624.42 Q638.962 2619.77 640.142 2618.43 Q642.387 2615.9 643.267 2614.17 Q644.17 2612.41 644.17 2610.72 Q644.17 2607.96 642.225 2606.23 Q640.304 2604.49 637.202 2604.49 Q635.003 2604.49 632.549 2605.25 Q630.119 2606.02 627.341 2607.57 L627.341 2602.85 Q630.165 2601.71 632.619 2601.13 Q635.073 2600.55 637.11 2600.55 Q642.48 2600.55 645.674 2603.24 Q648.869 2605.93 648.869 2610.42 Q648.869 2612.55 648.059 2614.47 Q647.272 2616.36 645.165 2618.96 Q644.586 2619.63 641.485 2622.85 Q638.383 2626.04 632.735 2631.8 Z\" fill=\"#000000\" fill-rule=\"evenodd\" fill-opacity=\"1\" /><path clip-path=\"url(#clip620)\" d=\"M1160.28 2604.26 Q1156.67 2604.26 1154.84 2607.82 Q1153.03 2611.36 1153.03 2618.49 Q1153.03 2625.6 1154.84 2629.17 Q1156.67 2632.71 1160.28 2632.71 Q1163.91 2632.71 1165.72 2629.17 Q1167.54 2625.6 1167.54 2618.49 Q1167.54 2611.36 1165.72 2607.82 Q1163.91 2604.26 1160.28 2604.26 M1160.28 2600.55 Q1166.09 2600.55 1169.14 2605.16 Q1172.22 2609.74 1172.22 2618.49 Q1172.22 2627.22 1169.14 2631.83 Q1166.09 2636.41 1160.28 2636.41 Q1154.47 2636.41 1151.39 2631.83 Q1148.33 2627.22 1148.33 2618.49 Q1148.33 2609.74 1151.39 2605.16 Q1154.47 2600.55 1160.28 2600.55 Z\" fill=\"#000000\" fill-rule=\"evenodd\" fill-opacity=\"1\" /><path clip-path=\"url(#clip620)\" d=\"M1180.44 2629.86 L1185.32 2629.86 L1185.32 2635.74 L1180.44 2635.74 L1180.44 2629.86 Z\" fill=\"#000000\" fill-rule=\"evenodd\" fill-opacity=\"1\" /><path clip-path=\"url(#clip620)\" d=\"M1208.35 2605.25 L1196.55 2623.7 L1208.35 2623.7 L1208.35 2605.25 M1207.13 2601.18 L1213.01 2601.18 L1213.01 2623.7 L1217.94 2623.7 L1217.94 2627.59 L1213.01 2627.59 L1213.01 2635.74 L1208.35 2635.74 L1208.35 2627.59 L1192.75 2627.59 L1192.75 2623.08 L1207.13 2601.18 Z\" fill=\"#000000\" fill-rule=\"evenodd\" fill-opacity=\"1\" /><path clip-path=\"url(#clip620)\" d=\"M1728.28 2604.26 Q1724.67 2604.26 1722.84 2607.82 Q1721.04 2611.36 1721.04 2618.49 Q1721.04 2625.6 1722.84 2629.17 Q1724.67 2632.71 1728.28 2632.71 Q1731.91 2632.71 1733.72 2629.17 Q1735.55 2625.6 1735.55 2618.49 Q1735.55 2611.36 1733.72 2607.82 Q1731.91 2604.26 1728.28 2604.26 M1728.28 2600.55 Q1734.09 2600.55 1737.15 2605.16 Q1740.23 2609.74 1740.23 2618.49 Q1740.23 2627.22 1737.15 2631.83 Q1734.09 2636.41 1728.28 2636.41 Q1722.47 2636.41 1719.39 2631.83 Q1716.34 2627.22 1716.34 2618.49 Q1716.34 2609.74 1719.39 2605.16 Q1722.47 2600.55 1728.28 2600.55 Z\" fill=\"#000000\" fill-rule=\"evenodd\" fill-opacity=\"1\" /><path clip-path=\"url(#clip620)\" d=\"M1748.44 2629.86 L1753.33 2629.86 L1753.33 2635.74 L1748.44 2635.74 L1748.44 2629.86 Z\" fill=\"#000000\" fill-rule=\"evenodd\" fill-opacity=\"1\" /><path clip-path=\"url(#clip620)\" d=\"M1774.09 2616.6 Q1770.94 2616.6 1769.09 2618.75 Q1767.26 2620.9 1767.26 2624.65 Q1767.26 2628.38 1769.09 2630.55 Q1770.94 2632.71 1774.09 2632.71 Q1777.24 2632.71 1779.07 2630.55 Q1780.92 2628.38 1780.92 2624.65 Q1780.92 2620.9 1779.07 2618.75 Q1777.24 2616.6 1774.09 2616.6 M1783.37 2601.94 L1783.37 2606.2 Q1781.61 2605.37 1779.81 2604.93 Q1778.03 2604.49 1776.27 2604.49 Q1771.64 2604.49 1769.18 2607.61 Q1766.75 2610.74 1766.41 2617.06 Q1767.77 2615.05 1769.83 2613.98 Q1771.89 2612.89 1774.37 2612.89 Q1779.58 2612.89 1782.59 2616.06 Q1785.62 2619.21 1785.62 2624.65 Q1785.62 2629.98 1782.47 2633.19 Q1779.32 2636.41 1774.09 2636.41 Q1768.1 2636.41 1764.92 2631.83 Q1761.75 2627.22 1761.75 2618.49 Q1761.75 2610.3 1765.64 2605.44 Q1769.53 2600.55 1776.08 2600.55 Q1777.84 2600.55 1779.62 2600.9 Q1781.43 2601.25 1783.37 2601.94 Z\" fill=\"#000000\" fill-rule=\"evenodd\" fill-opacity=\"1\" /><path clip-path=\"url(#clip620)\" d=\"M2296.25 2604.26 Q2292.64 2604.26 2290.81 2607.82 Q2289 2611.36 2289 2618.49 Q2289 2625.6 2290.81 2629.17 Q2292.64 2632.71 2296.25 2632.71 Q2299.88 2632.71 2301.69 2629.17 Q2303.52 2625.6 2303.52 2618.49 Q2303.52 2611.36 2301.69 2607.82 Q2299.88 2604.26 2296.25 2604.26 M2296.25 2600.55 Q2302.06 2600.55 2305.12 2605.16 Q2308.19 2609.74 2308.19 2618.49 Q2308.19 2627.22 2305.12 2631.83 Q2302.06 2636.41 2296.25 2636.41 Q2290.44 2636.41 2287.36 2631.83 Q2284.31 2627.22 2284.31 2618.49 Q2284.31 2609.74 2287.36 2605.16 Q2290.44 2600.55 2296.25 2600.55 Z\" fill=\"#000000\" fill-rule=\"evenodd\" fill-opacity=\"1\" /><path clip-path=\"url(#clip620)\" d=\"M2316.41 2629.86 L2321.3 2629.86 L2321.3 2635.74 L2316.41 2635.74 L2316.41 2629.86 Z\" fill=\"#000000\" fill-rule=\"evenodd\" fill-opacity=\"1\" /><path clip-path=\"url(#clip620)\" d=\"M2341.48 2619.33 Q2338.15 2619.33 2336.23 2621.11 Q2334.33 2622.89 2334.33 2626.02 Q2334.33 2629.14 2336.23 2630.93 Q2338.15 2632.71 2341.48 2632.71 Q2344.81 2632.71 2346.74 2630.93 Q2348.66 2629.12 2348.66 2626.02 Q2348.66 2622.89 2346.74 2621.11 Q2344.84 2619.33 2341.48 2619.33 M2336.81 2617.34 Q2333.8 2616.6 2332.11 2614.54 Q2330.44 2612.48 2330.44 2609.51 Q2330.44 2605.37 2333.38 2602.96 Q2336.34 2600.55 2341.48 2600.55 Q2346.64 2600.55 2349.58 2602.96 Q2352.52 2605.37 2352.52 2609.51 Q2352.52 2612.48 2350.83 2614.54 Q2349.17 2616.6 2346.18 2617.34 Q2349.56 2618.12 2351.44 2620.42 Q2353.33 2622.71 2353.33 2626.02 Q2353.33 2631.04 2350.25 2633.73 Q2347.2 2636.41 2341.48 2636.41 Q2335.76 2636.41 2332.69 2633.73 Q2329.63 2631.04 2329.63 2626.02 Q2329.63 2622.71 2331.53 2620.42 Q2333.43 2618.12 2336.81 2617.34 M2335.09 2609.95 Q2335.09 2612.64 2336.76 2614.14 Q2338.45 2615.65 2341.48 2615.65 Q2344.49 2615.65 2346.18 2614.14 Q2347.89 2612.64 2347.89 2609.95 Q2347.89 2607.27 2346.18 2605.76 Q2344.49 2604.26 2341.48 2604.26 Q2338.45 2604.26 2336.76 2605.76 Q2335.09 2607.27 2335.09 2609.95 Z\" fill=\"#000000\" fill-rule=\"evenodd\" fill-opacity=\"1\" /><path clip-path=\"url(#clip620)\" d=\"M1511.54 2671.48 L1511.54 2676.35 L1505.94 2676.35 Q1502.79 2676.35 1501.54 2677.62 Q1500.33 2678.89 1500.33 2682.2 L1500.33 2685.36 L1509.98 2685.36 L1509.98 2689.91 L1500.33 2689.91 L1500.33 2721 L1494.45 2721 L1494.45 2689.91 L1488.84 2689.91 L1488.84 2685.36 L1494.45 2685.36 L1494.45 2682.87 Q1494.45 2676.92 1497.22 2674.22 Q1499.98 2671.48 1506 2671.48 L1511.54 2671.48 Z\" fill=\"#000000\" fill-rule=\"evenodd\" fill-opacity=\"1\" /><polyline clip-path=\"url(#clip622)\" style=\"stroke:#000000; stroke-linecap:butt; stroke-linejoin:round; stroke-width:2; stroke-opacity:0.1; fill:none\" points=\"\n",
       "  247.626,2078.99 2752.76,2078.99 \n",
       "  \"/>\n",
       "<polyline clip-path=\"url(#clip622)\" style=\"stroke:#000000; stroke-linecap:butt; stroke-linejoin:round; stroke-width:2; stroke-opacity:0.1; fill:none\" points=\"\n",
       "  247.626,1555.75 2752.76,1555.75 \n",
       "  \"/>\n",
       "<polyline clip-path=\"url(#clip622)\" style=\"stroke:#000000; stroke-linecap:butt; stroke-linejoin:round; stroke-width:2; stroke-opacity:0.1; fill:none\" points=\"\n",
       "  247.626,1032.51 2752.76,1032.51 \n",
       "  \"/>\n",
       "<polyline clip-path=\"url(#clip622)\" style=\"stroke:#000000; stroke-linecap:butt; stroke-linejoin:round; stroke-width:2; stroke-opacity:0.1; fill:none\" points=\"\n",
       "  247.626,509.273 2752.76,509.273 \n",
       "  \"/>\n",
       "<polyline clip-path=\"url(#clip620)\" style=\"stroke:#000000; stroke-linecap:butt; stroke-linejoin:round; stroke-width:4; stroke-opacity:1; fill:none\" points=\"\n",
       "  247.626,2570.14 247.626,47.2441 \n",
       "  \"/>\n",
       "<polyline clip-path=\"url(#clip620)\" style=\"stroke:#000000; stroke-linecap:butt; stroke-linejoin:round; stroke-width:4; stroke-opacity:1; fill:none\" points=\"\n",
       "  247.626,2078.99 266.524,2078.99 \n",
       "  \"/>\n",
       "<polyline clip-path=\"url(#clip620)\" style=\"stroke:#000000; stroke-linecap:butt; stroke-linejoin:round; stroke-width:4; stroke-opacity:1; fill:none\" points=\"\n",
       "  247.626,1555.75 266.524,1555.75 \n",
       "  \"/>\n",
       "<polyline clip-path=\"url(#clip620)\" style=\"stroke:#000000; stroke-linecap:butt; stroke-linejoin:round; stroke-width:4; stroke-opacity:1; fill:none\" points=\"\n",
       "  247.626,1032.51 266.524,1032.51 \n",
       "  \"/>\n",
       "<polyline clip-path=\"url(#clip620)\" style=\"stroke:#000000; stroke-linecap:butt; stroke-linejoin:round; stroke-width:4; stroke-opacity:1; fill:none\" points=\"\n",
       "  247.626,509.273 266.524,509.273 \n",
       "  \"/>\n",
       "<path clip-path=\"url(#clip620)\" d=\"M150.048 2064.78 Q146.437 2064.78 144.608 2068.35 Q142.803 2071.89 142.803 2079.02 Q142.803 2086.13 144.608 2089.69 Q146.437 2093.23 150.048 2093.23 Q153.682 2093.23 155.488 2089.69 Q157.316 2086.13 157.316 2079.02 Q157.316 2071.89 155.488 2068.35 Q153.682 2064.78 150.048 2064.78 M150.048 2061.08 Q155.858 2061.08 158.914 2065.69 Q161.992 2070.27 161.992 2079.02 Q161.992 2087.75 158.914 2092.35 Q155.858 2096.94 150.048 2096.94 Q144.238 2096.94 141.159 2092.35 Q138.103 2087.75 138.103 2079.02 Q138.103 2070.27 141.159 2065.69 Q144.238 2061.08 150.048 2061.08 Z\" fill=\"#000000\" fill-rule=\"evenodd\" fill-opacity=\"1\" /><path clip-path=\"url(#clip620)\" d=\"M170.21 2090.39 L175.094 2090.39 L175.094 2096.27 L170.21 2096.27 L170.21 2090.39 Z\" fill=\"#000000\" fill-rule=\"evenodd\" fill-opacity=\"1\" /><path clip-path=\"url(#clip620)\" d=\"M189.307 2092.33 L205.626 2092.33 L205.626 2096.27 L183.682 2096.27 L183.682 2092.33 Q186.344 2089.58 190.927 2084.95 Q195.534 2080.29 196.714 2078.95 Q198.96 2076.43 199.839 2074.69 Q200.742 2072.93 200.742 2071.24 Q200.742 2068.49 198.798 2066.75 Q196.876 2065.02 193.774 2065.02 Q191.575 2065.02 189.122 2065.78 Q186.691 2066.54 183.913 2068.09 L183.913 2063.37 Q186.737 2062.24 189.191 2061.66 Q191.645 2061.08 193.682 2061.08 Q199.052 2061.08 202.247 2063.77 Q205.441 2066.45 205.441 2070.94 Q205.441 2073.07 204.631 2074.99 Q203.844 2076.89 201.737 2079.48 Q201.159 2080.15 198.057 2083.37 Q194.955 2086.57 189.307 2092.33 Z\" fill=\"#000000\" fill-rule=\"evenodd\" fill-opacity=\"1\" /><path clip-path=\"url(#clip620)\" d=\"M147.965 1541.55 Q144.353 1541.55 142.525 1545.11 Q140.719 1548.65 140.719 1555.78 Q140.719 1562.89 142.525 1566.45 Q144.353 1570 147.965 1570 Q151.599 1570 153.404 1566.45 Q155.233 1562.89 155.233 1555.78 Q155.233 1548.65 153.404 1545.11 Q151.599 1541.55 147.965 1541.55 M147.965 1537.84 Q153.775 1537.84 156.83 1542.45 Q159.909 1547.03 159.909 1555.78 Q159.909 1564.51 156.83 1569.12 Q153.775 1573.7 147.965 1573.7 Q142.154 1573.7 139.076 1569.12 Q136.02 1564.51 136.02 1555.78 Q136.02 1547.03 139.076 1542.45 Q142.154 1537.84 147.965 1537.84 Z\" fill=\"#000000\" fill-rule=\"evenodd\" fill-opacity=\"1\" /><path clip-path=\"url(#clip620)\" d=\"M168.126 1567.15 L173.011 1567.15 L173.011 1573.03 L168.126 1573.03 L168.126 1567.15 Z\" fill=\"#000000\" fill-rule=\"evenodd\" fill-opacity=\"1\" /><path clip-path=\"url(#clip620)\" d=\"M196.043 1542.54 L184.237 1560.99 L196.043 1560.99 L196.043 1542.54 M194.816 1538.47 L200.696 1538.47 L200.696 1560.99 L205.626 1560.99 L205.626 1564.88 L200.696 1564.88 L200.696 1573.03 L196.043 1573.03 L196.043 1564.88 L180.441 1564.88 L180.441 1560.37 L194.816 1538.47 Z\" fill=\"#000000\" fill-rule=\"evenodd\" fill-opacity=\"1\" /><path clip-path=\"url(#clip620)\" d=\"M148.289 1018.31 Q144.678 1018.31 142.849 1021.87 Q141.043 1025.42 141.043 1032.54 Q141.043 1039.65 142.849 1043.22 Q144.678 1046.76 148.289 1046.76 Q151.923 1046.76 153.728 1043.22 Q155.557 1039.65 155.557 1032.54 Q155.557 1025.42 153.728 1021.87 Q151.923 1018.31 148.289 1018.31 M148.289 1014.61 Q154.099 1014.61 157.154 1019.21 Q160.233 1023.79 160.233 1032.54 Q160.233 1041.27 157.154 1045.88 Q154.099 1050.46 148.289 1050.46 Q142.478 1050.46 139.4 1045.88 Q136.344 1041.27 136.344 1032.54 Q136.344 1023.79 139.4 1019.21 Q142.478 1014.61 148.289 1014.61 Z\" fill=\"#000000\" fill-rule=\"evenodd\" fill-opacity=\"1\" /><path clip-path=\"url(#clip620)\" d=\"M168.451 1043.91 L173.335 1043.91 L173.335 1049.79 L168.451 1049.79 L168.451 1043.91 Z\" fill=\"#000000\" fill-rule=\"evenodd\" fill-opacity=\"1\" /><path clip-path=\"url(#clip620)\" d=\"M194.099 1030.65 Q190.95 1030.65 189.099 1032.8 Q187.27 1034.95 187.27 1038.7 Q187.27 1042.43 189.099 1044.6 Q190.95 1046.76 194.099 1046.76 Q197.247 1046.76 199.075 1044.6 Q200.927 1042.43 200.927 1038.7 Q200.927 1034.95 199.075 1032.8 Q197.247 1030.65 194.099 1030.65 M203.381 1015.99 L203.381 1020.25 Q201.622 1019.42 199.816 1018.98 Q198.034 1018.54 196.274 1018.54 Q191.645 1018.54 189.191 1021.67 Q186.761 1024.79 186.413 1031.11 Q187.779 1029.1 189.839 1028.03 Q191.899 1026.94 194.376 1026.94 Q199.585 1026.94 202.594 1030.11 Q205.626 1033.26 205.626 1038.7 Q205.626 1044.03 202.478 1047.24 Q199.33 1050.46 194.099 1050.46 Q188.103 1050.46 184.932 1045.88 Q181.761 1041.27 181.761 1032.54 Q181.761 1024.35 185.65 1019.49 Q189.538 1014.61 196.089 1014.61 Q197.849 1014.61 199.631 1014.95 Q201.436 1015.3 203.381 1015.99 Z\" fill=\"#000000\" fill-rule=\"evenodd\" fill-opacity=\"1\" /><path clip-path=\"url(#clip620)\" d=\"M148.543 495.071 Q144.932 495.071 143.103 498.636 Q141.298 502.178 141.298 509.307 Q141.298 516.414 143.103 519.979 Q144.932 523.52 148.543 523.52 Q152.177 523.52 153.983 519.979 Q155.812 516.414 155.812 509.307 Q155.812 502.178 153.983 498.636 Q152.177 495.071 148.543 495.071 M148.543 491.368 Q154.353 491.368 157.409 495.974 Q160.488 500.557 160.488 509.307 Q160.488 518.034 157.409 522.641 Q154.353 527.224 148.543 527.224 Q142.733 527.224 139.654 522.641 Q136.599 518.034 136.599 509.307 Q136.599 500.557 139.654 495.974 Q142.733 491.368 148.543 491.368 Z\" fill=\"#000000\" fill-rule=\"evenodd\" fill-opacity=\"1\" /><path clip-path=\"url(#clip620)\" d=\"M168.705 520.673 L173.589 520.673 L173.589 526.553 L168.705 526.553 L168.705 520.673 Z\" fill=\"#000000\" fill-rule=\"evenodd\" fill-opacity=\"1\" /><path clip-path=\"url(#clip620)\" d=\"M193.774 510.141 Q190.441 510.141 188.52 511.923 Q186.622 513.705 186.622 516.83 Q186.622 519.955 188.52 521.738 Q190.441 523.52 193.774 523.52 Q197.108 523.52 199.029 521.738 Q200.95 519.932 200.95 516.83 Q200.95 513.705 199.029 511.923 Q197.131 510.141 193.774 510.141 M189.099 508.15 Q186.089 507.409 184.4 505.349 Q182.733 503.289 182.733 500.326 Q182.733 496.182 185.673 493.775 Q188.636 491.368 193.774 491.368 Q198.936 491.368 201.876 493.775 Q204.816 496.182 204.816 500.326 Q204.816 503.289 203.126 505.349 Q201.46 507.409 198.474 508.15 Q201.853 508.937 203.728 511.229 Q205.626 513.52 205.626 516.83 Q205.626 521.853 202.548 524.539 Q199.492 527.224 193.774 527.224 Q188.057 527.224 184.978 524.539 Q181.923 521.853 181.923 516.83 Q181.923 513.52 183.821 511.229 Q185.719 508.937 189.099 508.15 M187.386 500.766 Q187.386 503.451 189.052 504.955 Q190.742 506.46 193.774 506.46 Q196.784 506.46 198.474 504.955 Q200.186 503.451 200.186 500.766 Q200.186 498.08 198.474 496.576 Q196.784 495.071 193.774 495.071 Q190.742 495.071 189.052 496.576 Q187.386 498.08 187.386 500.766 Z\" fill=\"#000000\" fill-rule=\"evenodd\" fill-opacity=\"1\" /><path clip-path=\"url(#clip620)\" d=\"M33.9947 1309.63 L44.1162 1309.63 L44.1162 1297.57 L48.6677 1297.57 L48.6677 1309.63 L68.0194 1309.63 Q72.3799 1309.63 73.6213 1308.45 Q74.8626 1307.24 74.8626 1303.58 L74.8626 1297.57 L79.7642 1297.57 L79.7642 1303.58 Q79.7642 1310.36 77.2497 1312.94 Q74.7034 1315.52 68.0194 1315.52 L48.6677 1315.52 L48.6677 1319.82 L44.1162 1319.82 L44.1162 1315.52 L33.9947 1315.52 L33.9947 1309.63 Z\" fill=\"#000000\" fill-rule=\"evenodd\" fill-opacity=\"1\" /><circle clip-path=\"url(#clip622)\" cx=\"2559.89\" cy=\"2498.74\" r=\"39\" fill=\"#2f4f4f\" fill-rule=\"evenodd\" fill-opacity=\"1\" stroke=\"#000000\" stroke-opacity=\"1\" stroke-width=\"0\"/>\n",
       "<circle clip-path=\"url(#clip622)\" cx=\"2681.86\" cy=\"2365.35\" r=\"39\" fill=\"#2f4f4f\" fill-rule=\"evenodd\" fill-opacity=\"1\" stroke=\"#000000\" stroke-opacity=\"1\" stroke-width=\"0\"/>\n",
       "<circle clip-path=\"url(#clip622)\" cx=\"2414.65\" cy=\"2287.49\" r=\"39\" fill=\"#2f4f4f\" fill-rule=\"evenodd\" fill-opacity=\"1\" stroke=\"#000000\" stroke-opacity=\"1\" stroke-width=\"0\"/>\n",
       "<circle clip-path=\"url(#clip622)\" cx=\"2053.52\" cy=\"1943.72\" r=\"39\" fill=\"#2f4f4f\" fill-rule=\"evenodd\" fill-opacity=\"1\" stroke=\"#000000\" stroke-opacity=\"1\" stroke-width=\"0\"/>\n",
       "<circle clip-path=\"url(#clip622)\" cx=\"1548.17\" cy=\"1835.74\" r=\"39\" fill=\"#2f4f4f\" fill-rule=\"evenodd\" fill-opacity=\"1\" stroke=\"#000000\" stroke-opacity=\"1\" stroke-width=\"0\"/>\n",
       "<circle clip-path=\"url(#clip622)\" cx=\"2239.37\" cy=\"1765.97\" r=\"39\" fill=\"#2f4f4f\" fill-rule=\"evenodd\" fill-opacity=\"1\" stroke=\"#000000\" stroke-opacity=\"1\" stroke-width=\"0\"/>\n",
       "<circle clip-path=\"url(#clip622)\" cx=\"1665.67\" cy=\"1678.29\" r=\"39\" fill=\"#2f4f4f\" fill-rule=\"evenodd\" fill-opacity=\"1\" stroke=\"#000000\" stroke-opacity=\"1\" stroke-width=\"0\"/>\n",
       "<circle clip-path=\"url(#clip622)\" cx=\"1724.29\" cy=\"1509.04\" r=\"39\" fill=\"#2f4f4f\" fill-rule=\"evenodd\" fill-opacity=\"1\" stroke=\"#000000\" stroke-opacity=\"1\" stroke-width=\"0\"/>\n",
       "<circle clip-path=\"url(#clip622)\" cx=\"1532.61\" cy=\"1467.75\" r=\"39\" fill=\"#2f4f4f\" fill-rule=\"evenodd\" fill-opacity=\"1\" stroke=\"#000000\" stroke-opacity=\"1\" stroke-width=\"0\"/>\n",
       "<circle clip-path=\"url(#clip622)\" cx=\"1551.75\" cy=\"1368.35\" r=\"39\" fill=\"#2f4f4f\" fill-rule=\"evenodd\" fill-opacity=\"1\" stroke=\"#000000\" stroke-opacity=\"1\" stroke-width=\"0\"/>\n",
       "<circle clip-path=\"url(#clip622)\" cx=\"1564.96\" cy=\"1348.74\" r=\"39\" fill=\"#2f4f4f\" fill-rule=\"evenodd\" fill-opacity=\"1\" stroke=\"#000000\" stroke-opacity=\"1\" stroke-width=\"0\"/>\n",
       "<circle clip-path=\"url(#clip622)\" cx=\"1229.57\" cy=\"1046.66\" r=\"39\" fill=\"#2f4f4f\" fill-rule=\"evenodd\" fill-opacity=\"1\" stroke=\"#000000\" stroke-opacity=\"1\" stroke-width=\"0\"/>\n",
       "<circle clip-path=\"url(#clip622)\" cx=\"863.085\" cy=\"909.621\" r=\"39\" fill=\"#2f4f4f\" fill-rule=\"evenodd\" fill-opacity=\"1\" stroke=\"#000000\" stroke-opacity=\"1\" stroke-width=\"0\"/>\n",
       "<circle clip-path=\"url(#clip622)\" cx=\"1035.47\" cy=\"851.506\" r=\"39\" fill=\"#2f4f4f\" fill-rule=\"evenodd\" fill-opacity=\"1\" stroke=\"#000000\" stroke-opacity=\"1\" stroke-width=\"0\"/>\n",
       "<circle clip-path=\"url(#clip622)\" cx=\"854.744\" cy=\"780.224\" r=\"39\" fill=\"#2f4f4f\" fill-rule=\"evenodd\" fill-opacity=\"1\" stroke=\"#000000\" stroke-opacity=\"1\" stroke-width=\"0\"/>\n",
       "<circle clip-path=\"url(#clip622)\" cx=\"521.718\" cy=\"482.563\" r=\"39\" fill=\"#2f4f4f\" fill-rule=\"evenodd\" fill-opacity=\"1\" stroke=\"#000000\" stroke-opacity=\"1\" stroke-width=\"0\"/>\n",
       "<circle clip-path=\"url(#clip622)\" cx=\"318.526\" cy=\"287.5\" r=\"39\" fill=\"#2f4f4f\" fill-rule=\"evenodd\" fill-opacity=\"1\" stroke=\"#000000\" stroke-opacity=\"1\" stroke-width=\"0\"/>\n",
       "<circle clip-path=\"url(#clip622)\" cx=\"1678.12\" cy=\"1351.82\" r=\"39\" fill=\"#ff4500\" fill-rule=\"evenodd\" fill-opacity=\"1\" stroke=\"#000000\" stroke-opacity=\"1\" stroke-width=\"0\"/>\n",
       "<circle clip-path=\"url(#clip622)\" cx=\"975.785\" cy=\"244.476\" r=\"39\" fill=\"#ff4500\" fill-rule=\"evenodd\" fill-opacity=\"1\" stroke=\"#000000\" stroke-opacity=\"1\" stroke-width=\"0\"/>\n",
       "<circle clip-path=\"url(#clip622)\" cx=\"874.734\" cy=\"118.647\" r=\"39\" fill=\"#ff4500\" fill-rule=\"evenodd\" fill-opacity=\"1\" stroke=\"#000000\" stroke-opacity=\"1\" stroke-width=\"0\"/>\n",
       "<path clip-path=\"url(#clip620)\" d=\"\n",
       "M1978.85 235.021 L2669.25 235.021 L2669.25 131.341 L1978.85 131.341  Z\n",
       "  \" fill=\"#ffffff\" fill-rule=\"evenodd\" fill-opacity=\"1\"/>\n",
       "<polyline clip-path=\"url(#clip620)\" style=\"stroke:#000000; stroke-linecap:butt; stroke-linejoin:round; stroke-width:4; stroke-opacity:1; fill:none\" points=\"\n",
       "  1978.85,235.021 2669.25,235.021 2669.25,131.341 1978.85,131.341 1978.85,235.021 \n",
       "  \"/>\n",
       "<circle clip-path=\"url(#clip620)\" cx=\"2090.18\" cy=\"183.181\" r=\"23\" fill=\"#ff4500\" fill-rule=\"evenodd\" fill-opacity=\"1\" stroke=\"#000000\" stroke-opacity=\"1\" stroke-width=\"0\"/>\n",
       "<path clip-path=\"url(#clip620)\" d=\"M2214.93 187.428 Q2209.76 187.428 2207.77 188.609 Q2205.78 189.789 2205.78 192.637 Q2205.78 194.905 2207.26 196.248 Q2208.77 197.567 2211.34 197.567 Q2214.88 197.567 2217.01 195.067 Q2219.16 192.544 2219.16 188.377 L2219.16 187.428 L2214.93 187.428 M2223.42 185.669 L2223.42 200.461 L2219.16 200.461 L2219.16 196.525 Q2217.7 198.887 2215.53 200.021 Q2213.35 201.132 2210.2 201.132 Q2206.22 201.132 2203.86 198.91 Q2201.52 196.664 2201.52 192.914 Q2201.52 188.539 2204.44 186.317 Q2207.38 184.095 2213.19 184.095 L2219.16 184.095 L2219.16 183.678 Q2219.16 180.739 2217.22 179.141 Q2215.3 177.521 2211.8 177.521 Q2209.58 177.521 2207.47 178.053 Q2205.37 178.586 2203.42 179.651 L2203.42 175.715 Q2205.76 174.813 2207.96 174.373 Q2210.16 173.91 2212.24 173.91 Q2217.87 173.91 2220.64 176.826 Q2223.42 179.743 2223.42 185.669 Z\" fill=\"#000000\" fill-rule=\"evenodd\" fill-opacity=\"1\" /><path clip-path=\"url(#clip620)\" d=\"M2236.32 196.572 L2236.32 210.322 L2232.03 210.322 L2232.03 174.535 L2236.32 174.535 L2236.32 178.47 Q2237.66 176.155 2239.7 175.044 Q2241.76 173.91 2244.6 173.91 Q2249.32 173.91 2252.26 177.66 Q2255.23 181.41 2255.23 187.521 Q2255.23 193.632 2252.26 197.382 Q2249.32 201.132 2244.6 201.132 Q2241.76 201.132 2239.7 200.021 Q2237.66 198.887 2236.32 196.572 M2250.81 187.521 Q2250.81 182.822 2248.86 180.16 Q2246.94 177.475 2243.56 177.475 Q2240.18 177.475 2238.24 180.16 Q2236.32 182.822 2236.32 187.521 Q2236.32 192.22 2238.24 194.905 Q2240.18 197.567 2243.56 197.567 Q2246.94 197.567 2248.86 194.905 Q2250.81 192.22 2250.81 187.521 Z\" fill=\"#000000\" fill-rule=\"evenodd\" fill-opacity=\"1\" /><path clip-path=\"url(#clip620)\" d=\"M2266.41 196.572 L2266.41 210.322 L2262.13 210.322 L2262.13 174.535 L2266.41 174.535 L2266.41 178.47 Q2267.75 176.155 2269.79 175.044 Q2271.85 173.91 2274.69 173.91 Q2279.42 173.91 2282.36 177.66 Q2285.32 181.41 2285.32 187.521 Q2285.32 193.632 2282.36 197.382 Q2279.42 201.132 2274.69 201.132 Q2271.85 201.132 2269.79 200.021 Q2267.75 198.887 2266.41 196.572 M2280.9 187.521 Q2280.9 182.822 2278.95 180.16 Q2277.03 177.475 2273.65 177.475 Q2270.27 177.475 2268.33 180.16 Q2266.41 182.822 2266.41 187.521 Q2266.41 192.22 2268.33 194.905 Q2270.27 197.567 2273.65 197.567 Q2277.03 197.567 2278.95 194.905 Q2280.9 192.22 2280.9 187.521 Z\" fill=\"#000000\" fill-rule=\"evenodd\" fill-opacity=\"1\" /><path clip-path=\"url(#clip620)\" d=\"M2292.38 164.442 L2296.64 164.442 L2296.64 200.461 L2292.38 200.461 L2292.38 164.442 Z\" fill=\"#000000\" fill-rule=\"evenodd\" fill-opacity=\"1\" /><path clip-path=\"url(#clip620)\" d=\"M2316.34 202.868 Q2314.53 207.498 2312.82 208.91 Q2311.11 210.322 2308.24 210.322 L2304.83 210.322 L2304.83 206.757 L2307.33 206.757 Q2309.09 206.757 2310.07 205.924 Q2311.04 205.09 2312.22 201.988 L2312.98 200.044 L2302.5 174.535 L2307.01 174.535 L2315.11 194.813 L2323.21 174.535 L2327.73 174.535 L2316.34 202.868 Z\" fill=\"#000000\" fill-rule=\"evenodd\" fill-opacity=\"1\" /><path clip-path=\"url(#clip620)\" d=\"M2346.2 174.535 L2350.46 174.535 L2355.78 194.766 L2361.08 174.535 L2366.11 174.535 L2371.43 194.766 L2376.73 174.535 L2380.99 174.535 L2374.21 200.461 L2369.19 200.461 L2363.61 179.211 L2358 200.461 L2352.98 200.461 L2346.2 174.535 Z\" fill=\"#000000\" fill-rule=\"evenodd\" fill-opacity=\"1\" /><path clip-path=\"url(#clip620)\" d=\"M2409 184.813 L2409 200.461 L2404.74 200.461 L2404.74 184.951 Q2404.74 181.271 2403.31 179.442 Q2401.87 177.614 2399 177.614 Q2395.55 177.614 2393.56 179.813 Q2391.57 182.012 2391.57 185.808 L2391.57 200.461 L2387.29 200.461 L2387.29 164.442 L2391.57 164.442 L2391.57 178.563 Q2393.1 176.225 2395.16 175.067 Q2397.24 173.91 2399.95 173.91 Q2404.42 173.91 2406.71 176.688 Q2409 179.442 2409 184.813 Z\" fill=\"#000000\" fill-rule=\"evenodd\" fill-opacity=\"1\" /><path clip-path=\"url(#clip620)\" d=\"M2439.67 186.433 L2439.67 188.516 L2420.09 188.516 Q2420.37 192.914 2422.73 195.229 Q2425.11 197.521 2429.35 197.521 Q2431.8 197.521 2434.09 196.919 Q2436.41 196.317 2438.68 195.113 L2438.68 199.141 Q2436.38 200.113 2433.98 200.623 Q2431.57 201.132 2429.09 201.132 Q2422.89 201.132 2419.25 197.521 Q2415.64 193.91 2415.64 187.752 Q2415.64 181.387 2419.07 177.66 Q2422.52 173.91 2428.35 173.91 Q2433.58 173.91 2436.62 177.289 Q2439.67 180.646 2439.67 186.433 M2435.41 185.183 Q2435.37 181.688 2433.44 179.604 Q2431.55 177.521 2428.4 177.521 Q2424.83 177.521 2422.68 179.535 Q2420.55 181.549 2420.23 185.206 L2435.41 185.183 Z\" fill=\"#000000\" fill-rule=\"evenodd\" fill-opacity=\"1\" /><path clip-path=\"url(#clip620)\" d=\"M2468.21 184.813 L2468.21 200.461 L2463.95 200.461 L2463.95 184.951 Q2463.95 181.271 2462.52 179.442 Q2461.08 177.614 2458.21 177.614 Q2454.76 177.614 2452.77 179.813 Q2450.78 182.012 2450.78 185.808 L2450.78 200.461 L2446.5 200.461 L2446.5 174.535 L2450.78 174.535 L2450.78 178.563 Q2452.31 176.225 2454.37 175.067 Q2456.45 173.91 2459.16 173.91 Q2463.63 173.91 2465.92 176.688 Q2468.21 179.442 2468.21 184.813 Z\" fill=\"#000000\" fill-rule=\"evenodd\" fill-opacity=\"1\" /><path clip-path=\"url(#clip620)\" d=\"M2513.33 184.813 L2513.33 200.461 L2509.07 200.461 L2509.07 184.951 Q2509.07 181.271 2507.63 179.442 Q2506.2 177.614 2503.33 177.614 Q2499.88 177.614 2497.89 179.813 Q2495.9 182.012 2495.9 185.808 L2495.9 200.461 L2491.62 200.461 L2491.62 164.442 L2495.9 164.442 L2495.9 178.563 Q2497.43 176.225 2499.49 175.067 Q2501.57 173.91 2504.28 173.91 Q2508.74 173.91 2511.04 176.688 Q2513.33 179.442 2513.33 184.813 Z\" fill=\"#000000\" fill-rule=\"evenodd\" fill-opacity=\"1\" /><path clip-path=\"url(#clip620)\" d=\"M2537.45 178.933 L2567.12 178.933 L2567.12 182.822 L2537.45 182.822 L2537.45 178.933 M2537.45 188.377 L2567.12 188.377 L2567.12 192.313 L2537.45 192.313 L2537.45 188.377 Z\" fill=\"#000000\" fill-rule=\"evenodd\" fill-opacity=\"1\" /><path clip-path=\"url(#clip620)\" d=\"M2606.45 181.826 Q2609.81 182.544 2611.68 184.813 Q2613.58 187.081 2613.58 190.414 Q2613.58 195.53 2610.06 198.331 Q2606.55 201.132 2600.06 201.132 Q2597.89 201.132 2595.57 200.692 Q2593.28 200.275 2590.83 199.419 L2590.83 194.905 Q2592.77 196.039 2595.09 196.618 Q2597.4 197.197 2599.92 197.197 Q2604.32 197.197 2606.61 195.461 Q2608.93 193.725 2608.93 190.414 Q2608.93 187.359 2606.78 185.646 Q2604.65 183.91 2600.83 183.91 L2596.8 183.91 L2596.8 180.067 L2601.01 180.067 Q2604.46 180.067 2606.29 178.701 Q2608.12 177.313 2608.12 174.72 Q2608.12 172.058 2606.22 170.646 Q2604.35 169.211 2600.83 169.211 Q2598.91 169.211 2596.71 169.627 Q2594.51 170.044 2591.87 170.924 L2591.87 166.757 Q2594.53 166.016 2596.85 165.646 Q2599.18 165.276 2601.24 165.276 Q2606.57 165.276 2609.67 167.706 Q2612.77 170.114 2612.77 174.234 Q2612.77 177.104 2611.13 179.095 Q2609.48 181.063 2606.45 181.826 Z\" fill=\"#000000\" fill-rule=\"evenodd\" fill-opacity=\"1\" /></svg>\n"
      ]
     },
     "metadata": {},
     "output_type": "display_data"
    }
   ],
   "source": [
    "# for (n, i) in enumerate(pl)\n",
    "#       display(i)\n",
    "# end\n",
    "display(pl[4])"
   ]
  },
  {
   "cell_type": "code",
   "execution_count": 47,
   "id": "7dc0d069-6973-419c-af80-5e295c57367f",
   "metadata": {},
   "outputs": [],
   "source": [
    "for (n, i) in enumerate(pl)\n",
    "    savefig(i, \"optportfolio-$(n-1).png\")\n",
    "    savefig(i, \"optportfolio-$(n-1).pdf\")\n",
    "end"
   ]
  },
  {
   "cell_type": "code",
   "execution_count": 33,
   "id": "ce76e299-d142-4ba4-828d-a5ee08bb585b",
   "metadata": {},
   "outputs": [
    {
     "name": "stdout",
     "output_type": "stream",
     "text": [
      "\\begin{frame}\\begin{center}\\includegraphics[height=\\textheight]{./plots/optportfolio-0.pdf}\\end{center}\\end{frame}\n",
      "\\begin{frame}\\begin{center}\\includegraphics[height=\\textheight]{./plots/optportfolio-1.pdf}\\end{center}\\end{frame}\n",
      "\\begin{frame}\\begin{center}\\includegraphics[height=\\textheight]{./plots/optportfolio-2.pdf}\\end{center}\\end{frame}\n",
      "\\begin{frame}\\begin{center}\\includegraphics[height=\\textheight]{./plots/optportfolio-3.pdf}\\end{center}\\end{frame}\n",
      "\\begin{frame}\\begin{center}\\includegraphics[height=\\textheight]{./plots/optportfolio-4.pdf}\\end{center}\\end{frame}\n",
      "\\begin{frame}\\begin{center}\\includegraphics[height=\\textheight]{./plots/optportfolio-5.pdf}\\end{center}\\end{frame}\n",
      "\\begin{frame}\\begin{center}\\includegraphics[height=\\textheight]{./plots/optportfolio-6.pdf}\\end{center}\\end{frame}\n",
      "\\begin{frame}\\begin{center}\\includegraphics[height=\\textheight]{./plots/optportfolio-7.pdf}\\end{center}\\end{frame}\n",
      "\\begin{frame}\\begin{center}\\includegraphics[height=\\textheight]{./plots/optportfolio-8.pdf}\\end{center}\\end{frame}\n",
      "\\begin{frame}\\begin{center}\\includegraphics[height=\\textheight]{./plots/optportfolio-9.pdf}\\end{center}\\end{frame}\n",
      "\\begin{frame}\\begin{center}\\includegraphics[height=\\textheight]{./plots/optportfolio-10.pdf}\\end{center}\\end{frame}\n",
      "\\begin{frame}\\begin{center}\\includegraphics[height=\\textheight]{./plots/optportfolio-11.pdf}\\end{center}\\end{frame}\n",
      "\\begin{frame}\\begin{center}\\includegraphics[height=\\textheight]{./plots/optportfolio-12.pdf}\\end{center}\\end{frame}\n",
      "\\begin{frame}\\begin{center}\\includegraphics[height=\\textheight]{./plots/optportfolio-13.pdf}\\end{center}\\end{frame}\n",
      "\\begin{frame}\\begin{center}\\includegraphics[height=\\textheight]{./plots/optportfolio-14.pdf}\\end{center}\\end{frame}\n",
      "\\begin{frame}\\begin{center}\\includegraphics[height=\\textheight]{./plots/optportfolio-15.pdf}\\end{center}\\end{frame}\n",
      "\\begin{frame}\\begin{center}\\includegraphics[height=\\textheight]{./plots/optportfolio-16.pdf}\\end{center}\\end{frame}\n",
      "\\begin{frame}\\begin{center}\\includegraphics[height=\\textheight]{./plots/optportfolio-17.pdf}\\end{center}\\end{frame}\n",
      "\\begin{frame}\\begin{center}\\includegraphics[height=\\textheight]{./plots/optportfolio-18.pdf}\\end{center}\\end{frame}\n",
      "\\begin{frame}\\begin{center}\\includegraphics[height=\\textheight]{./plots/optportfolio-19.pdf}\\end{center}\\end{frame}\n",
      "\\begin{frame}\\begin{center}\\includegraphics[height=\\textheight]{./plots/optportfolio-20.pdf}\\end{center}\\end{frame}\n",
      "\\begin{frame}\\begin{center}\\includegraphics[height=\\textheight]{./plots/optportfolio-21.pdf}\\end{center}\\end{frame}\n"
     ]
    }
   ],
   "source": [
    "for i in 0:length(pl)-1\n",
    "    print(\"\\\\begin{frame}\\\\begin{center}\\\\includegraphics[height=\\\\textheight]{./plots/optportfolio-$i.pdf}\\\\end{center}\\\\end{frame}\\n\")\n",
    "end"
   ]
  },
  {
   "cell_type": "markdown",
   "id": "b284eabb-b832-4996-a095-ba6e0b72864d",
   "metadata": {},
   "source": [
    "## Example for which greedy algorithm is inoptimal"
   ]
  },
  {
   "cell_type": "code",
   "execution_count": 3,
   "id": "24c2160c-8e3e-41c9-afcf-59a4d88a49a5",
   "metadata": {},
   "outputs": [
    {
     "name": "stdout",
     "output_type": "stream",
     "text": [
      "Bool[1, 0, 0]\n",
      "Bool[1, 0, 1]\n",
      "Bool[1, 1, 1]\n"
     ]
    }
   ],
   "source": [
    "f = [0.4, 0.4, 0.3]\n",
    "t = [0.7, 0.8, 0.9]\n",
    "\n",
    "pl, x, apporder = plotsmaker()\n",
    "\n",
    "so = sortperm(t .* f, rev=true)\n",
    "for c in eachcol(x)\n",
    "    println(c[so])\n",
    "end"
   ]
  },
  {
   "cell_type": "code",
   "execution_count": 311,
   "id": "0f0a7189-7942-40c2-ab64-23385b050727",
   "metadata": {},
   "outputs": [
    {
     "data": {
      "text/plain": [
       "3×3 Matrix{Float64}:\n",
       " 0.4  0.7  0.28\n",
       " 0.4  0.8  0.32\n",
       " 0.3  0.9  0.27"
      ]
     },
     "execution_count": 311,
     "metadata": {},
     "output_type": "execute_result"
    }
   ],
   "source": [
    "[f t f .* t]"
   ]
  },
  {
   "cell_type": "markdown",
   "id": "d861ffc0-563c-4bd2-ba21-02301292025b",
   "metadata": {},
   "source": [
    "## Comparative statics example"
   ]
  },
  {
   "cell_type": "code",
   "execution_count": 9,
   "id": "65a08210-dee8-428b-b7e6-ce0665e58448",
   "metadata": {},
   "outputs": [
    {
     "data": {
      "text/plain": [
       "8-element Vector{Float64}:\n",
       " 0.39\n",
       " 0.33\n",
       " 0.24\n",
       " 0.24\n",
       " 0.05\n",
       " 0.03\n",
       " 0.1\n",
       " 0.12"
      ]
     },
     "execution_count": 9,
     "metadata": {},
     "output_type": "execute_result"
    }
   ],
   "source": [
    "t = Float64.(collect(range(start=200, step=50, length=8)))\n",
    "f = [0.39, 0.33, 0.24, 0.24, 0.05, 0.03, 0.1, 0.12]"
   ]
  },
  {
   "cell_type": "code",
   "execution_count": 11,
   "id": "8ba8e182-004e-4e5f-aa40-4bf2be6b93b9",
   "metadata": {},
   "outputs": [
    {
     "data": {
      "text/plain": [
       "8×4 Matrix{Float64}:\n",
       " 200.0  0.39  4.0  230.0\n",
       " 250.0  0.33  2.0  147.0\n",
       " 300.0  0.24  8.0  294.0\n",
       " 350.0  0.24  1.0   84.0\n",
       " 400.0  0.05  7.0  289.0\n",
       " 450.0  0.03  3.0  195.0\n",
       " 500.0  0.1   5.0  258.0\n",
       " 550.0  0.12  6.0  282.0"
      ]
     },
     "execution_count": 11,
     "metadata": {},
     "output_type": "execute_result"
    }
   ],
   "source": [
    "apporder = applicationorder(f, t)\n",
    "v = [valuation(apporder[1:i], f, t) for i in 1:8]\n",
    "\n",
    "[t f apporder round.(v)[apporder]]"
   ]
  },
  {
   "cell_type": "code",
   "execution_count": 12,
   "id": "4c979088-54ec-499e-a554-b515605b3c8d",
   "metadata": {},
   "outputs": [
    {
     "data": {
      "image/svg+xml": [
       "<?xml version=\"1.0\" encoding=\"utf-8\"?>\n",
       "<svg xmlns=\"http://www.w3.org/2000/svg\" xmlns:xlink=\"http://www.w3.org/1999/xlink\" width=\"720\" height=\"420\" viewBox=\"0 0 2880 1680\">\n",
       "<defs>\n",
       "  <clipPath id=\"clip660\">\n",
       "    <rect x=\"0\" y=\"0\" width=\"2880\" height=\"1680\"/>\n",
       "  </clipPath>\n",
       "</defs>\n",
       "<path clip-path=\"url(#clip660)\" d=\"\n",
       "M0 1680 L2880 1680 L2880 0 L0 0  Z\n",
       "  \" fill=\"#ffffff\" fill-rule=\"evenodd\" fill-opacity=\"1\"/>\n",
       "<defs>\n",
       "  <clipPath id=\"clip661\">\n",
       "    <rect x=\"576\" y=\"0\" width=\"2017\" height=\"1680\"/>\n",
       "  </clipPath>\n",
       "</defs>\n",
       "<path clip-path=\"url(#clip660)\" d=\"\n",
       "M232.985 1512.64 L2832.76 1512.64 L2832.76 47.2441 L232.985 47.2441  Z\n",
       "  \" fill=\"#ffffff\" fill-rule=\"evenodd\" fill-opacity=\"1\"/>\n",
       "<defs>\n",
       "  <clipPath id=\"clip662\">\n",
       "    <rect x=\"232\" y=\"47\" width=\"2601\" height=\"1466\"/>\n",
       "  </clipPath>\n",
       "</defs>\n",
       "<polyline clip-path=\"url(#clip662)\" style=\"stroke:#000000; stroke-linecap:butt; stroke-linejoin:round; stroke-width:2; stroke-opacity:0.1; fill:none\" points=\"\n",
       "  306.564,1512.64 306.564,47.2441 \n",
       "  \"/>\n",
       "<polyline clip-path=\"url(#clip662)\" style=\"stroke:#000000; stroke-linecap:butt; stroke-linejoin:round; stroke-width:2; stroke-opacity:0.1; fill:none\" points=\"\n",
       "  656.937,1512.64 656.937,47.2441 \n",
       "  \"/>\n",
       "<polyline clip-path=\"url(#clip662)\" style=\"stroke:#000000; stroke-linecap:butt; stroke-linejoin:round; stroke-width:2; stroke-opacity:0.1; fill:none\" points=\"\n",
       "  1007.31,1512.64 1007.31,47.2441 \n",
       "  \"/>\n",
       "<polyline clip-path=\"url(#clip662)\" style=\"stroke:#000000; stroke-linecap:butt; stroke-linejoin:round; stroke-width:2; stroke-opacity:0.1; fill:none\" points=\"\n",
       "  1357.68,1512.64 1357.68,47.2441 \n",
       "  \"/>\n",
       "<polyline clip-path=\"url(#clip662)\" style=\"stroke:#000000; stroke-linecap:butt; stroke-linejoin:round; stroke-width:2; stroke-opacity:0.1; fill:none\" points=\"\n",
       "  1708.06,1512.64 1708.06,47.2441 \n",
       "  \"/>\n",
       "<polyline clip-path=\"url(#clip662)\" style=\"stroke:#000000; stroke-linecap:butt; stroke-linejoin:round; stroke-width:2; stroke-opacity:0.1; fill:none\" points=\"\n",
       "  2058.43,1512.64 2058.43,47.2441 \n",
       "  \"/>\n",
       "<polyline clip-path=\"url(#clip662)\" style=\"stroke:#000000; stroke-linecap:butt; stroke-linejoin:round; stroke-width:2; stroke-opacity:0.1; fill:none\" points=\"\n",
       "  2408.8,1512.64 2408.8,47.2441 \n",
       "  \"/>\n",
       "<polyline clip-path=\"url(#clip662)\" style=\"stroke:#000000; stroke-linecap:butt; stroke-linejoin:round; stroke-width:2; stroke-opacity:0.1; fill:none\" points=\"\n",
       "  2759.18,1512.64 2759.18,47.2441 \n",
       "  \"/>\n",
       "<polyline clip-path=\"url(#clip660)\" style=\"stroke:#000000; stroke-linecap:butt; stroke-linejoin:round; stroke-width:4; stroke-opacity:1; fill:none\" points=\"\n",
       "  232.985,1512.64 2832.76,1512.64 \n",
       "  \"/>\n",
       "<polyline clip-path=\"url(#clip660)\" style=\"stroke:#000000; stroke-linecap:butt; stroke-linejoin:round; stroke-width:4; stroke-opacity:1; fill:none\" points=\"\n",
       "  306.564,1512.64 306.564,1493.74 \n",
       "  \"/>\n",
       "<polyline clip-path=\"url(#clip660)\" style=\"stroke:#000000; stroke-linecap:butt; stroke-linejoin:round; stroke-width:4; stroke-opacity:1; fill:none\" points=\"\n",
       "  656.937,1512.64 656.937,1493.74 \n",
       "  \"/>\n",
       "<polyline clip-path=\"url(#clip660)\" style=\"stroke:#000000; stroke-linecap:butt; stroke-linejoin:round; stroke-width:4; stroke-opacity:1; fill:none\" points=\"\n",
       "  1007.31,1512.64 1007.31,1493.74 \n",
       "  \"/>\n",
       "<polyline clip-path=\"url(#clip660)\" style=\"stroke:#000000; stroke-linecap:butt; stroke-linejoin:round; stroke-width:4; stroke-opacity:1; fill:none\" points=\"\n",
       "  1357.68,1512.64 1357.68,1493.74 \n",
       "  \"/>\n",
       "<polyline clip-path=\"url(#clip660)\" style=\"stroke:#000000; stroke-linecap:butt; stroke-linejoin:round; stroke-width:4; stroke-opacity:1; fill:none\" points=\"\n",
       "  1708.06,1512.64 1708.06,1493.74 \n",
       "  \"/>\n",
       "<polyline clip-path=\"url(#clip660)\" style=\"stroke:#000000; stroke-linecap:butt; stroke-linejoin:round; stroke-width:4; stroke-opacity:1; fill:none\" points=\"\n",
       "  2058.43,1512.64 2058.43,1493.74 \n",
       "  \"/>\n",
       "<polyline clip-path=\"url(#clip660)\" style=\"stroke:#000000; stroke-linecap:butt; stroke-linejoin:round; stroke-width:4; stroke-opacity:1; fill:none\" points=\"\n",
       "  2408.8,1512.64 2408.8,1493.74 \n",
       "  \"/>\n",
       "<polyline clip-path=\"url(#clip660)\" style=\"stroke:#000000; stroke-linecap:butt; stroke-linejoin:round; stroke-width:4; stroke-opacity:1; fill:none\" points=\"\n",
       "  2759.18,1512.64 2759.18,1493.74 \n",
       "  \"/>\n",
       "<path clip-path=\"url(#clip660)\" d=\"M296.946 1574.94 L304.585 1574.94 L304.585 1548.58 L296.275 1550.25 L296.275 1545.99 L304.538 1544.32 L309.214 1544.32 L309.214 1574.94 L316.853 1574.94 L316.853 1578.88 L296.946 1578.88 L296.946 1574.94 Z\" fill=\"#000000\" fill-rule=\"evenodd\" fill-opacity=\"1\" /><path clip-path=\"url(#clip660)\" d=\"M651.59 1574.94 L667.909 1574.94 L667.909 1578.88 L645.965 1578.88 L645.965 1574.94 Q648.627 1572.19 653.21 1567.56 Q657.817 1562.91 658.997 1561.57 Q661.243 1559.04 662.122 1557.31 Q663.025 1555.55 663.025 1553.86 Q663.025 1551.1 661.081 1549.37 Q659.159 1547.63 656.058 1547.63 Q653.859 1547.63 651.405 1548.39 Q648.974 1549.16 646.197 1550.71 L646.197 1545.99 Q649.021 1544.85 651.474 1544.27 Q653.928 1543.69 655.965 1543.69 Q661.335 1543.69 664.53 1546.38 Q667.724 1549.07 667.724 1553.56 Q667.724 1555.69 666.914 1557.61 Q666.127 1559.5 664.021 1562.1 Q663.442 1562.77 660.34 1565.99 Q657.238 1569.18 651.59 1574.94 Z\" fill=\"#000000\" fill-rule=\"evenodd\" fill-opacity=\"1\" /><path clip-path=\"url(#clip660)\" d=\"M1011.56 1560.25 Q1014.91 1560.96 1016.79 1563.23 Q1018.69 1565.5 1018.69 1568.83 Q1018.69 1573.95 1015.17 1576.75 Q1011.65 1579.55 1005.17 1579.55 Q1002.99 1579.55 1000.68 1579.11 Q998.387 1578.69 995.933 1577.84 L995.933 1573.32 Q997.878 1574.46 1000.19 1575.04 Q1002.51 1575.62 1005.03 1575.62 Q1009.43 1575.62 1011.72 1573.88 Q1014.04 1572.14 1014.04 1568.83 Q1014.04 1565.78 1011.88 1564.07 Q1009.75 1562.33 1005.93 1562.33 L1001.91 1562.33 L1001.91 1558.49 L1006.12 1558.49 Q1009.57 1558.49 1011.4 1557.12 Q1013.22 1555.73 1013.22 1553.14 Q1013.22 1550.48 1011.33 1549.07 Q1009.45 1547.63 1005.93 1547.63 Q1004.01 1547.63 1001.81 1548.05 Q999.614 1548.46 996.975 1549.34 L996.975 1545.18 Q999.637 1544.44 1001.95 1544.07 Q1004.29 1543.69 1006.35 1543.69 Q1011.67 1543.69 1014.78 1546.13 Q1017.88 1548.53 1017.88 1552.65 Q1017.88 1555.52 1016.23 1557.51 Q1014.59 1559.48 1011.56 1560.25 Z\" fill=\"#000000\" fill-rule=\"evenodd\" fill-opacity=\"1\" /><path clip-path=\"url(#clip660)\" d=\"M1360.69 1548.39 L1348.89 1566.84 L1360.69 1566.84 L1360.69 1548.39 M1359.47 1544.32 L1365.35 1544.32 L1365.35 1566.84 L1370.28 1566.84 L1370.28 1570.73 L1365.35 1570.73 L1365.35 1578.88 L1360.69 1578.88 L1360.69 1570.73 L1345.09 1570.73 L1345.09 1566.22 L1359.47 1544.32 Z\" fill=\"#000000\" fill-rule=\"evenodd\" fill-opacity=\"1\" /><path clip-path=\"url(#clip660)\" d=\"M1698.34 1544.32 L1716.69 1544.32 L1716.69 1548.26 L1702.62 1548.26 L1702.62 1556.73 Q1703.64 1556.38 1704.65 1556.22 Q1705.67 1556.03 1706.69 1556.03 Q1712.48 1556.03 1715.86 1559.2 Q1719.24 1562.38 1719.24 1567.79 Q1719.24 1573.37 1715.77 1576.47 Q1712.29 1579.55 1705.97 1579.55 Q1703.8 1579.55 1701.53 1579.18 Q1699.28 1578.81 1696.88 1578.07 L1696.88 1573.37 Q1698.96 1574.5 1701.18 1575.06 Q1703.4 1575.62 1705.88 1575.62 Q1709.89 1575.62 1712.22 1573.51 Q1714.56 1571.4 1714.56 1567.79 Q1714.56 1564.18 1712.22 1562.07 Q1709.89 1559.97 1705.88 1559.97 Q1704.01 1559.97 1702.13 1560.38 Q1700.28 1560.8 1698.34 1561.68 L1698.34 1544.32 Z\" fill=\"#000000\" fill-rule=\"evenodd\" fill-opacity=\"1\" /><path clip-path=\"url(#clip660)\" d=\"M2058.84 1559.74 Q2055.69 1559.74 2053.84 1561.89 Q2052.01 1564.04 2052.01 1567.79 Q2052.01 1571.52 2053.84 1573.69 Q2055.69 1575.85 2058.84 1575.85 Q2061.98 1575.85 2063.81 1573.69 Q2065.66 1571.52 2065.66 1567.79 Q2065.66 1564.04 2063.81 1561.89 Q2061.98 1559.74 2058.84 1559.74 M2068.12 1545.08 L2068.12 1549.34 Q2066.36 1548.51 2064.55 1548.07 Q2062.77 1547.63 2061.01 1547.63 Q2056.38 1547.63 2053.93 1550.75 Q2051.5 1553.88 2051.15 1560.2 Q2052.52 1558.19 2054.58 1557.12 Q2056.64 1556.03 2059.11 1556.03 Q2064.32 1556.03 2067.33 1559.2 Q2070.36 1562.35 2070.36 1567.79 Q2070.36 1573.12 2067.22 1576.33 Q2064.07 1579.55 2058.84 1579.55 Q2052.84 1579.55 2049.67 1574.97 Q2046.5 1570.36 2046.5 1561.63 Q2046.5 1553.44 2050.39 1548.58 Q2054.28 1543.69 2060.83 1543.69 Q2062.59 1543.69 2064.37 1544.04 Q2066.17 1544.39 2068.12 1545.08 Z\" fill=\"#000000\" fill-rule=\"evenodd\" fill-opacity=\"1\" /><path clip-path=\"url(#clip660)\" d=\"M2397.69 1544.32 L2419.92 1544.32 L2419.92 1546.31 L2407.37 1578.88 L2402.48 1578.88 L2414.29 1548.26 L2397.69 1548.26 L2397.69 1544.32 Z\" fill=\"#000000\" fill-rule=\"evenodd\" fill-opacity=\"1\" /><path clip-path=\"url(#clip660)\" d=\"M2759.18 1562.47 Q2755.84 1562.47 2753.92 1564.25 Q2752.02 1566.03 2752.02 1569.16 Q2752.02 1572.28 2753.92 1574.07 Q2755.84 1575.85 2759.18 1575.85 Q2762.51 1575.85 2764.43 1574.07 Q2766.35 1572.26 2766.35 1569.16 Q2766.35 1566.03 2764.43 1564.25 Q2762.53 1562.47 2759.18 1562.47 M2754.5 1560.48 Q2751.49 1559.74 2749.8 1557.68 Q2748.14 1555.62 2748.14 1552.65 Q2748.14 1548.51 2751.08 1546.1 Q2754.04 1543.69 2759.18 1543.69 Q2764.34 1543.69 2767.28 1546.1 Q2770.22 1548.51 2770.22 1552.65 Q2770.22 1555.62 2768.53 1557.68 Q2766.86 1559.74 2763.88 1560.48 Q2767.26 1561.26 2769.13 1563.56 Q2771.03 1565.85 2771.03 1569.16 Q2771.03 1574.18 2767.95 1576.87 Q2764.9 1579.55 2759.18 1579.55 Q2753.46 1579.55 2750.38 1576.87 Q2747.33 1574.18 2747.33 1569.16 Q2747.33 1565.85 2749.22 1563.56 Q2751.12 1561.26 2754.5 1560.48 M2752.79 1553.09 Q2752.79 1555.78 2754.46 1557.28 Q2756.15 1558.79 2759.18 1558.79 Q2762.19 1558.79 2763.88 1557.28 Q2765.59 1555.78 2765.59 1553.09 Q2765.59 1550.41 2763.88 1548.9 Q2762.19 1547.4 2759.18 1547.4 Q2756.15 1547.4 2754.46 1548.9 Q2752.79 1550.41 2752.79 1553.09 Z\" fill=\"#000000\" fill-rule=\"evenodd\" fill-opacity=\"1\" /><path clip-path=\"url(#clip660)\" d=\"M1547.8 1643.19 L1547.8 1664.7 L1541.94 1664.7 L1541.94 1643.38 Q1541.94 1638.32 1539.97 1635.8 Q1538 1633.29 1534.05 1633.29 Q1529.31 1633.29 1526.57 1636.31 Q1523.83 1639.34 1523.83 1644.56 L1523.83 1664.7 L1517.94 1664.7 L1517.94 1615.18 L1523.83 1615.18 L1523.83 1634.59 Q1525.93 1631.38 1528.76 1629.79 Q1531.63 1628.2 1535.35 1628.2 Q1541.5 1628.2 1544.65 1632.02 Q1547.8 1635.8 1547.8 1643.19 Z\" fill=\"#000000\" fill-rule=\"evenodd\" fill-opacity=\"1\" /><polyline clip-path=\"url(#clip662)\" style=\"stroke:#000000; stroke-linecap:butt; stroke-linejoin:round; stroke-width:2; stroke-opacity:0.1; fill:none\" points=\"\n",
       "  232.985,1365.89 2832.76,1365.89 \n",
       "  \"/>\n",
       "<polyline clip-path=\"url(#clip662)\" style=\"stroke:#000000; stroke-linecap:butt; stroke-linejoin:round; stroke-width:2; stroke-opacity:0.1; fill:none\" points=\"\n",
       "  232.985,1036.9 2832.76,1036.9 \n",
       "  \"/>\n",
       "<polyline clip-path=\"url(#clip662)\" style=\"stroke:#000000; stroke-linecap:butt; stroke-linejoin:round; stroke-width:2; stroke-opacity:0.1; fill:none\" points=\"\n",
       "  232.985,707.915 2832.76,707.915 \n",
       "  \"/>\n",
       "<polyline clip-path=\"url(#clip662)\" style=\"stroke:#000000; stroke-linecap:butt; stroke-linejoin:round; stroke-width:2; stroke-opacity:0.1; fill:none\" points=\"\n",
       "  232.985,378.927 2832.76,378.927 \n",
       "  \"/>\n",
       "<polyline clip-path=\"url(#clip662)\" style=\"stroke:#000000; stroke-linecap:butt; stroke-linejoin:round; stroke-width:2; stroke-opacity:0.1; fill:none\" points=\"\n",
       "  232.985,49.9394 2832.76,49.9394 \n",
       "  \"/>\n",
       "<polyline clip-path=\"url(#clip660)\" style=\"stroke:#000000; stroke-linecap:butt; stroke-linejoin:round; stroke-width:4; stroke-opacity:1; fill:none\" points=\"\n",
       "  232.985,1512.64 232.985,47.2441 \n",
       "  \"/>\n",
       "<polyline clip-path=\"url(#clip660)\" style=\"stroke:#000000; stroke-linecap:butt; stroke-linejoin:round; stroke-width:4; stroke-opacity:1; fill:none\" points=\"\n",
       "  232.985,1365.89 251.883,1365.89 \n",
       "  \"/>\n",
       "<polyline clip-path=\"url(#clip660)\" style=\"stroke:#000000; stroke-linecap:butt; stroke-linejoin:round; stroke-width:4; stroke-opacity:1; fill:none\" points=\"\n",
       "  232.985,1036.9 251.883,1036.9 \n",
       "  \"/>\n",
       "<polyline clip-path=\"url(#clip660)\" style=\"stroke:#000000; stroke-linecap:butt; stroke-linejoin:round; stroke-width:4; stroke-opacity:1; fill:none\" points=\"\n",
       "  232.985,707.915 251.883,707.915 \n",
       "  \"/>\n",
       "<polyline clip-path=\"url(#clip660)\" style=\"stroke:#000000; stroke-linecap:butt; stroke-linejoin:round; stroke-width:4; stroke-opacity:1; fill:none\" points=\"\n",
       "  232.985,378.927 251.883,378.927 \n",
       "  \"/>\n",
       "<polyline clip-path=\"url(#clip660)\" style=\"stroke:#000000; stroke-linecap:butt; stroke-linejoin:round; stroke-width:4; stroke-opacity:1; fill:none\" points=\"\n",
       "  232.985,49.9394 251.883,49.9394 \n",
       "  \"/>\n",
       "<path clip-path=\"url(#clip660)\" d=\"M108.328 1379.24 L115.966 1379.24 L115.966 1352.87 L107.656 1354.54 L107.656 1350.28 L115.92 1348.61 L120.596 1348.61 L120.596 1379.24 L128.235 1379.24 L128.235 1383.17 L108.328 1383.17 L108.328 1379.24 Z\" fill=\"#000000\" fill-rule=\"evenodd\" fill-opacity=\"1\" /><path clip-path=\"url(#clip660)\" d=\"M147.679 1351.69 Q144.068 1351.69 142.239 1355.25 Q140.434 1358.8 140.434 1365.93 Q140.434 1373.03 142.239 1376.6 Q144.068 1380.14 147.679 1380.14 Q151.313 1380.14 153.119 1376.6 Q154.948 1373.03 154.948 1365.93 Q154.948 1358.8 153.119 1355.25 Q151.313 1351.69 147.679 1351.69 M147.679 1347.99 Q153.489 1347.99 156.545 1352.59 Q159.624 1357.18 159.624 1365.93 Q159.624 1374.65 156.545 1379.26 Q153.489 1383.84 147.679 1383.84 Q141.869 1383.84 138.79 1379.26 Q135.735 1374.65 135.735 1365.93 Q135.735 1357.18 138.79 1352.59 Q141.869 1347.99 147.679 1347.99 Z\" fill=\"#000000\" fill-rule=\"evenodd\" fill-opacity=\"1\" /><path clip-path=\"url(#clip660)\" d=\"M177.841 1351.69 Q174.23 1351.69 172.401 1355.25 Q170.596 1358.8 170.596 1365.93 Q170.596 1373.03 172.401 1376.6 Q174.23 1380.14 177.841 1380.14 Q181.475 1380.14 183.281 1376.6 Q185.11 1373.03 185.11 1365.93 Q185.11 1358.8 183.281 1355.25 Q181.475 1351.69 177.841 1351.69 M177.841 1347.99 Q183.651 1347.99 186.707 1352.59 Q189.785 1357.18 189.785 1365.93 Q189.785 1374.65 186.707 1379.26 Q183.651 1383.84 177.841 1383.84 Q172.031 1383.84 168.952 1379.26 Q165.897 1374.65 165.897 1365.93 Q165.897 1357.18 168.952 1352.59 Q172.031 1347.99 177.841 1347.99 Z\" fill=\"#000000\" fill-rule=\"evenodd\" fill-opacity=\"1\" /><path clip-path=\"url(#clip660)\" d=\"M108.328 1050.25 L115.966 1050.25 L115.966 1023.88 L107.656 1025.55 L107.656 1021.29 L115.92 1019.62 L120.596 1019.62 L120.596 1050.25 L128.235 1050.25 L128.235 1054.18 L108.328 1054.18 L108.328 1050.25 Z\" fill=\"#000000\" fill-rule=\"evenodd\" fill-opacity=\"1\" /><path clip-path=\"url(#clip660)\" d=\"M137.726 1019.62 L156.082 1019.62 L156.082 1023.56 L142.008 1023.56 L142.008 1032.03 Q143.026 1031.68 144.045 1031.52 Q145.063 1031.34 146.082 1031.34 Q151.869 1031.34 155.249 1034.51 Q158.628 1037.68 158.628 1043.09 Q158.628 1048.67 155.156 1051.78 Q151.684 1054.85 145.364 1054.85 Q143.188 1054.85 140.92 1054.48 Q138.675 1054.11 136.267 1053.37 L136.267 1048.67 Q138.351 1049.81 140.573 1050.36 Q142.795 1050.92 145.272 1050.92 Q149.276 1050.92 151.614 1048.81 Q153.952 1046.71 153.952 1043.09 Q153.952 1039.48 151.614 1037.38 Q149.276 1035.27 145.272 1035.27 Q143.397 1035.27 141.522 1035.69 Q139.67 1036.1 137.726 1036.98 L137.726 1019.62 Z\" fill=\"#000000\" fill-rule=\"evenodd\" fill-opacity=\"1\" /><path clip-path=\"url(#clip660)\" d=\"M177.841 1022.7 Q174.23 1022.7 172.401 1026.27 Q170.596 1029.81 170.596 1036.94 Q170.596 1044.04 172.401 1047.61 Q174.23 1051.15 177.841 1051.15 Q181.475 1051.15 183.281 1047.61 Q185.11 1044.04 185.11 1036.94 Q185.11 1029.81 183.281 1026.27 Q181.475 1022.7 177.841 1022.7 M177.841 1019 Q183.651 1019 186.707 1023.6 Q189.785 1028.19 189.785 1036.94 Q189.785 1045.66 186.707 1050.27 Q183.651 1054.85 177.841 1054.85 Q172.031 1054.85 168.952 1050.27 Q165.897 1045.66 165.897 1036.94 Q165.897 1028.19 168.952 1023.6 Q172.031 1019 177.841 1019 Z\" fill=\"#000000\" fill-rule=\"evenodd\" fill-opacity=\"1\" /><path clip-path=\"url(#clip660)\" d=\"M111.545 721.26 L127.864 721.26 L127.864 725.195 L105.92 725.195 L105.92 721.26 Q108.582 718.505 113.165 713.875 Q117.772 709.223 118.952 707.88 Q121.198 705.357 122.077 703.621 Q122.98 701.862 122.98 700.172 Q122.98 697.417 121.036 695.681 Q119.115 693.945 116.013 693.945 Q113.814 693.945 111.36 694.709 Q108.929 695.473 106.152 697.024 L106.152 692.301 Q108.976 691.167 111.429 690.589 Q113.883 690.01 115.92 690.01 Q121.29 690.01 124.485 692.695 Q127.679 695.38 127.679 699.871 Q127.679 702.001 126.869 703.922 Q126.082 705.82 123.976 708.413 Q123.397 709.084 120.295 712.301 Q117.193 715.496 111.545 721.26 Z\" fill=\"#000000\" fill-rule=\"evenodd\" fill-opacity=\"1\" /><path clip-path=\"url(#clip660)\" d=\"M147.679 693.714 Q144.068 693.714 142.239 697.278 Q140.434 700.82 140.434 707.95 Q140.434 715.056 142.239 718.621 Q144.068 722.162 147.679 722.162 Q151.313 722.162 153.119 718.621 Q154.948 715.056 154.948 707.95 Q154.948 700.82 153.119 697.278 Q151.313 693.714 147.679 693.714 M147.679 690.01 Q153.489 690.01 156.545 694.616 Q159.624 699.2 159.624 707.95 Q159.624 716.676 156.545 721.283 Q153.489 725.866 147.679 725.866 Q141.869 725.866 138.79 721.283 Q135.735 716.676 135.735 707.95 Q135.735 699.2 138.79 694.616 Q141.869 690.01 147.679 690.01 Z\" fill=\"#000000\" fill-rule=\"evenodd\" fill-opacity=\"1\" /><path clip-path=\"url(#clip660)\" d=\"M177.841 693.714 Q174.23 693.714 172.401 697.278 Q170.596 700.82 170.596 707.95 Q170.596 715.056 172.401 718.621 Q174.23 722.162 177.841 722.162 Q181.475 722.162 183.281 718.621 Q185.11 715.056 185.11 707.95 Q185.11 700.82 183.281 697.278 Q181.475 693.714 177.841 693.714 M177.841 690.01 Q183.651 690.01 186.707 694.616 Q189.785 699.2 189.785 707.95 Q189.785 716.676 186.707 721.283 Q183.651 725.866 177.841 725.866 Q172.031 725.866 168.952 721.283 Q165.897 716.676 165.897 707.95 Q165.897 699.2 168.952 694.616 Q172.031 690.01 177.841 690.01 Z\" fill=\"#000000\" fill-rule=\"evenodd\" fill-opacity=\"1\" /><path clip-path=\"url(#clip660)\" d=\"M111.545 392.272 L127.864 392.272 L127.864 396.207 L105.92 396.207 L105.92 392.272 Q108.582 389.517 113.165 384.888 Q117.772 380.235 118.952 378.892 Q121.198 376.369 122.077 374.633 Q122.98 372.874 122.98 371.184 Q122.98 368.429 121.036 366.693 Q119.115 364.957 116.013 364.957 Q113.814 364.957 111.36 365.721 Q108.929 366.485 106.152 368.036 L106.152 363.314 Q108.976 362.179 111.429 361.601 Q113.883 361.022 115.92 361.022 Q121.29 361.022 124.485 363.707 Q127.679 366.392 127.679 370.883 Q127.679 373.013 126.869 374.934 Q126.082 376.832 123.976 379.425 Q123.397 380.096 120.295 383.314 Q117.193 386.508 111.545 392.272 Z\" fill=\"#000000\" fill-rule=\"evenodd\" fill-opacity=\"1\" /><path clip-path=\"url(#clip660)\" d=\"M137.726 361.647 L156.082 361.647 L156.082 365.582 L142.008 365.582 L142.008 374.054 Q143.026 373.707 144.045 373.545 Q145.063 373.36 146.082 373.36 Q151.869 373.36 155.249 376.531 Q158.628 379.703 158.628 385.119 Q158.628 390.698 155.156 393.8 Q151.684 396.878 145.364 396.878 Q143.188 396.878 140.92 396.508 Q138.675 396.138 136.267 395.397 L136.267 390.698 Q138.351 391.832 140.573 392.388 Q142.795 392.943 145.272 392.943 Q149.276 392.943 151.614 390.837 Q153.952 388.73 153.952 385.119 Q153.952 381.508 151.614 379.402 Q149.276 377.295 145.272 377.295 Q143.397 377.295 141.522 377.712 Q139.67 378.128 137.726 379.008 L137.726 361.647 Z\" fill=\"#000000\" fill-rule=\"evenodd\" fill-opacity=\"1\" /><path clip-path=\"url(#clip660)\" d=\"M177.841 364.726 Q174.23 364.726 172.401 368.291 Q170.596 371.832 170.596 378.962 Q170.596 386.068 172.401 389.633 Q174.23 393.175 177.841 393.175 Q181.475 393.175 183.281 389.633 Q185.11 386.068 185.11 378.962 Q185.11 371.832 183.281 368.291 Q181.475 364.726 177.841 364.726 M177.841 361.022 Q183.651 361.022 186.707 365.629 Q189.785 370.212 189.785 378.962 Q189.785 387.689 186.707 392.295 Q183.651 396.878 177.841 396.878 Q172.031 396.878 168.952 392.295 Q165.897 387.689 165.897 378.962 Q165.897 370.212 168.952 365.629 Q172.031 361.022 177.841 361.022 Z\" fill=\"#000000\" fill-rule=\"evenodd\" fill-opacity=\"1\" /><path clip-path=\"url(#clip660)\" d=\"M121.684 48.5852 Q125.04 49.3028 126.915 51.5713 Q128.814 53.8398 128.814 57.1731 Q128.814 62.2888 125.295 65.0897 Q121.777 67.8907 115.295 67.8907 Q113.119 67.8907 110.804 67.4508 Q108.513 67.0342 106.059 66.1777 L106.059 61.6638 Q108.003 62.7981 110.318 63.3768 Q112.633 63.9555 115.156 63.9555 Q119.554 63.9555 121.846 62.2194 Q124.161 60.4833 124.161 57.1731 Q124.161 54.1176 122.008 52.4046 Q119.878 50.6685 116.059 50.6685 L112.031 50.6685 L112.031 46.8259 L116.244 46.8259 Q119.693 46.8259 121.522 45.4602 Q123.351 44.0713 123.351 41.4788 Q123.351 38.8167 121.452 37.4047 Q119.577 35.9695 116.059 35.9695 Q114.138 35.9695 111.939 36.3862 Q109.74 36.8029 107.101 37.6825 L107.101 33.5158 Q109.763 32.7751 112.078 32.4047 Q114.415 32.0344 116.476 32.0344 Q121.8 32.0344 124.902 34.4649 Q128.003 36.8723 128.003 40.9926 Q128.003 43.863 126.36 45.8537 Q124.716 47.8213 121.684 48.5852 Z\" fill=\"#000000\" fill-rule=\"evenodd\" fill-opacity=\"1\" /><path clip-path=\"url(#clip660)\" d=\"M147.679 35.738 Q144.068 35.738 142.239 39.3028 Q140.434 42.8445 140.434 49.9741 Q140.434 57.0805 142.239 60.6453 Q144.068 64.187 147.679 64.187 Q151.313 64.187 153.119 60.6453 Q154.948 57.0805 154.948 49.9741 Q154.948 42.8445 153.119 39.3028 Q151.313 35.738 147.679 35.738 M147.679 32.0344 Q153.489 32.0344 156.545 36.6408 Q159.624 41.2241 159.624 49.9741 Q159.624 58.7009 156.545 63.3073 Q153.489 67.8907 147.679 67.8907 Q141.869 67.8907 138.79 63.3073 Q135.735 58.7009 135.735 49.9741 Q135.735 41.2241 138.79 36.6408 Q141.869 32.0344 147.679 32.0344 Z\" fill=\"#000000\" fill-rule=\"evenodd\" fill-opacity=\"1\" /><path clip-path=\"url(#clip660)\" d=\"M177.841 35.738 Q174.23 35.738 172.401 39.3028 Q170.596 42.8445 170.596 49.9741 Q170.596 57.0805 172.401 60.6453 Q174.23 64.187 177.841 64.187 Q181.475 64.187 183.281 60.6453 Q185.11 57.0805 185.11 49.9741 Q185.11 42.8445 183.281 39.3028 Q181.475 35.738 177.841 35.738 M177.841 32.0344 Q183.651 32.0344 186.707 36.6408 Q189.785 41.2241 189.785 49.9741 Q189.785 58.7009 186.707 63.3073 Q183.651 67.8907 177.841 67.8907 Q172.031 67.8907 168.952 63.3073 Q165.897 58.7009 165.897 49.9741 Q165.897 41.2241 168.952 36.6408 Q172.031 32.0344 177.841 32.0344 Z\" fill=\"#000000\" fill-rule=\"evenodd\" fill-opacity=\"1\" /><path clip-path=\"url(#clip660)\" d=\"M12.8162 813.585 L12.8162 807.378 L42.735 796.238 L12.8162 785.098 L12.8162 778.892 L48.4642 792.26 L48.4642 800.217 L12.8162 813.585 Z\" fill=\"#000000\" fill-rule=\"evenodd\" fill-opacity=\"1\" /><path clip-path=\"url(#clip660)\" d=\"M8.77398 746.299 L14.9487 757.726 L21.1553 746.299 L24.2745 748.145 L17.8133 758.84 L29.8126 758.84 L29.8126 762.468 L17.8133 762.468 L24.2745 773.162 L21.1553 775.009 L14.9487 763.582 L8.77398 775.009 L5.62295 773.162 L12.0841 762.468 L0.0847871 762.468 L0.0847871 758.84 L12.0841 758.84 L5.62295 748.145 L8.77398 746.299 Z\" fill=\"#000000\" fill-rule=\"evenodd\" fill-opacity=\"1\" /><polyline clip-path=\"url(#clip662)\" style=\"stroke:#dc143c; stroke-linecap:butt; stroke-linejoin:round; stroke-width:6; stroke-opacity:1; fill:none\" points=\"\n",
       "  306.564,1471.17 656.937,1058.62 1007.31,740.182 1357.68,510.21 1708.06,328.64 2058.43,171.576 2408.8,123.779 2759.18,88.7176 \n",
       "  \"/>\n",
       "<path clip-path=\"url(#clip662)\" d=\"M306.564 1451.17 L286.564 1471.17 L306.564 1491.17 L326.564 1471.17 L306.564 1451.17 Z\" fill=\"#dc143c\" fill-rule=\"evenodd\" fill-opacity=\"1\" stroke=\"#000000\" stroke-opacity=\"1\" stroke-width=\"0\"/>\n",
       "<path clip-path=\"url(#clip662)\" d=\"M656.937 1038.62 L636.937 1058.62 L656.937 1078.62 L676.937 1058.62 L656.937 1038.62 Z\" fill=\"#dc143c\" fill-rule=\"evenodd\" fill-opacity=\"1\" stroke=\"#000000\" stroke-opacity=\"1\" stroke-width=\"0\"/>\n",
       "<path clip-path=\"url(#clip662)\" d=\"M1007.31 720.182 L987.311 740.182 L1007.31 760.182 L1027.31 740.182 L1007.31 720.182 Z\" fill=\"#dc143c\" fill-rule=\"evenodd\" fill-opacity=\"1\" stroke=\"#000000\" stroke-opacity=\"1\" stroke-width=\"0\"/>\n",
       "<path clip-path=\"url(#clip662)\" d=\"M1357.68 490.21 L1337.68 510.21 L1357.68 530.21 L1377.68 510.21 L1357.68 490.21 Z\" fill=\"#dc143c\" fill-rule=\"evenodd\" fill-opacity=\"1\" stroke=\"#000000\" stroke-opacity=\"1\" stroke-width=\"0\"/>\n",
       "<path clip-path=\"url(#clip662)\" d=\"M1708.06 308.64 L1688.06 328.64 L1708.06 348.64 L1728.06 328.64 L1708.06 308.64 Z\" fill=\"#dc143c\" fill-rule=\"evenodd\" fill-opacity=\"1\" stroke=\"#000000\" stroke-opacity=\"1\" stroke-width=\"0\"/>\n",
       "<path clip-path=\"url(#clip662)\" d=\"M2058.43 151.576 L2038.43 171.576 L2058.43 191.576 L2078.43 171.576 L2058.43 151.576 Z\" fill=\"#dc143c\" fill-rule=\"evenodd\" fill-opacity=\"1\" stroke=\"#000000\" stroke-opacity=\"1\" stroke-width=\"0\"/>\n",
       "<path clip-path=\"url(#clip662)\" d=\"M2408.8 103.779 L2388.8 123.779 L2408.8 143.779 L2428.8 123.779 L2408.8 103.779 Z\" fill=\"#dc143c\" fill-rule=\"evenodd\" fill-opacity=\"1\" stroke=\"#000000\" stroke-opacity=\"1\" stroke-width=\"0\"/>\n",
       "<path clip-path=\"url(#clip662)\" d=\"M2759.18 68.7176 L2739.18 88.7176 L2759.18 108.718 L2779.18 88.7176 L2759.18 68.7176 Z\" fill=\"#dc143c\" fill-rule=\"evenodd\" fill-opacity=\"1\" stroke=\"#000000\" stroke-opacity=\"1\" stroke-width=\"0\"/>\n",
       "</svg>\n"
      ]
     },
     "execution_count": 12,
     "metadata": {},
     "output_type": "execute_result"
    }
   ],
   "source": [
    "pl = plot(v, legend=false, size=(720, 420), xlabel=\"h\", ylabel=\"v*\", lw=1.5, color=:crimson, xticks=1:8, marker=:diamond, msw=0, msa=0, ms=5)"
   ]
  },
  {
   "cell_type": "code",
   "execution_count": 41,
   "id": "b4f9755a-db35-4dce-8112-579963ca96e9",
   "metadata": {},
   "outputs": [],
   "source": [
    "savefig(pl, \"h-utility.png\")\n",
    "savefig(pl, \"h-utility.pdf\")"
   ]
  },
  {
   "cell_type": "raw",
   "id": "706ec224-7540-478b-9fec-360e2495fc02",
   "metadata": {},
   "source": [
    " 200  0.39  4  230\n",
    " 250  0.33  2  147\n",
    " 300  0.24  6  282\n",
    " 350  0.24  1   84\n",
    " 400  0.05  7  289\n",
    " 450  0.03  8  294\n",
    " 500  0.1   5  258\n",
    " 550  0.12  3  195"
   ]
  }
 ],
 "metadata": {
  "kernelspec": {
   "display_name": "Julia 1.7.0",
   "language": "julia",
   "name": "julia-1.7"
  },
  "language_info": {
   "file_extension": ".jl",
   "mimetype": "application/julia",
   "name": "julia",
   "version": "1.7.0"
  }
 },
 "nbformat": 4,
 "nbformat_minor": 5
}
