{
 "cells": [
  {
   "cell_type": "code",
   "execution_count": 1,
   "id": "cb44317f-6742-4955-8c15-ce0c0bbe2120",
   "metadata": {},
   "outputs": [],
   "source": [
    "using JuMP, Ipopt\n",
    "using LinearAlgebra\n",
    "using Combinatorics: combinations\n",
    "using ForwardDiff: gradient, hessian\n",
    "using Random\n",
    "using Plots"
   ]
  },
  {
   "cell_type": "code",
   "execution_count": 2,
   "id": "128f1c0a-b4ee-4a86-8b35-7e1852a7583a",
   "metadata": {},
   "outputs": [
    {
     "data": {
      "text/plain": [
       "5-element Vector{Vector{Int64}}:\n",
       " [1, 2]\n",
       " [1, 3]\n",
       " [1, 4]\n",
       " [2, 3]\n",
       " [2, 4]"
      ]
     },
     "metadata": {},
     "output_type": "display_data"
    },
    {
     "data": {
      "text/plain": [
       "3-element Vector{Vector{Int64}}:\n",
       " [1, 2, 4]\n",
       " [1, 3, 4]\n",
       " [2, 3, 4]"
      ]
     },
     "metadata": {},
     "output_type": "display_data"
    }
   ],
   "source": [
    "TwoBundles = collect(combinations(1:4, 2))\n",
    "ThrBundles = collect(combinations(1:4, 3))\n",
    "\n",
    "TwoOpt = [3, 4]\n",
    "ThrOpt = [1, 2, 3]\n",
    "\n",
    "setdiff!(TwoBundles, [TwoOpt])\n",
    "setdiff!(ThrBundles, [ThrOpt])\n",
    "\n",
    "display(TwoBundles)\n",
    "display(ThrBundles)"
   ]
  },
  {
   "cell_type": "code",
   "execution_count": 92,
   "id": "657e9557-00f5-4ee5-b432-56c246fe408b",
   "metadata": {},
   "outputs": [
    {
     "data": {
      "text/plain": [
       "LOCALLY_INFEASIBLE::TerminationStatusCode = 5"
      ]
     },
     "execution_count": 92,
     "metadata": {},
     "output_type": "execute_result"
    }
   ],
   "source": [
    "mod = Model(Ipopt.Optimizer)\n",
    "set_silent(mod)\n",
    "\n",
    "@variable(mod, t[1:4] ≥ 0)\n",
    "@variable(mod, 0 ≤ f[1:4] ≤ 1)\n",
    "\n",
    "@constraint(mod, Sortedness[j in 1:3], t[j] ≤ t[j+1])\n",
    "\n",
    "ε = 0.001\n",
    "\n",
    "h = 2\n",
    "@NLconstraint(mod, TwoOptCon[l in 1:length(TwoBundles)],\n",
    "    sum(t[TwoOpt[i]] * f[TwoOpt[i]] * prod(1 - f[TwoOpt[j]] for j in i+1:h) for i in 1:h-1) + t[TwoOpt[end]] * f[TwoOpt[end]] - ε ≥\n",
    "    sum(t[TwoBundles[l][i]] * f[TwoBundles[l][i]] * prod(1 - f[TwoBundles[l][j]] for j in i+1:h) for i in 1:h-1) + t[TwoBundles[l][end]] * f[TwoBundles[l][end]]\n",
    ")\n",
    "    \n",
    "h = 3\n",
    "@NLconstraint(mod, ThrOptCon[l in 1:length(ThrBundles)],\n",
    "    sum(t[ThrOpt[i]] * f[ThrOpt[i]] * prod(1 - f[ThrOpt[j]] for j in i+1:h) for i in 1:h-1) + t[ThrOpt[end]] * f[ThrOpt[end]] - ε ≥\n",
    "    sum(t[ThrBundles[l][i]] * f[ThrBundles[l][i]] * prod(1 - f[ThrBundles[l][j]] for j in i+1:h) for i in 1:h-1) + t[ThrBundles[l][end]] * f[ThrBundles[l][end]]\n",
    ")\n",
    "\n",
    "optimize!(mod)\n",
    "termination_status(mod)"
   ]
  },
  {
   "cell_type": "code",
   "execution_count": 69,
   "id": "599c83f7-aaed-4858-9815-f69b511d7fe8",
   "metadata": {},
   "outputs": [
    {
     "data": {
      "text/plain": [
       "Dict{Any, Float64} with 1 entry:\n",
       "  ((t[1] * f[1] * ((1.0 - f[3]) * (1.0 - f[4])) + t[3] * f[3] * … => 3.42728e-10"
      ]
     },
     "execution_count": 69,
     "metadata": {},
     "output_type": "execute_result"
    }
   ],
   "source": [
    "primal_feasibility_report(mod)"
   ]
  },
  {
   "cell_type": "code",
   "execution_count": 64,
   "id": "1a72890d-fc97-452c-8e6c-0c98a3420492",
   "metadata": {},
   "outputs": [
    {
     "name": "stdout",
     "output_type": "stream",
     "text": [
      "[2.9962542114803625, 4.315146043300834, 5.334970409723789, 9.707365021388634]\n",
      "[0.8782556903051538, 0.3057100995525, 0.1903886995899347, 0.06853687639185227]\n"
     ]
    }
   ],
   "source": [
    "value.(t) |> println\n",
    "value.(f) |> println"
   ]
  },
  {
   "cell_type": "code",
   "execution_count": 3,
   "id": "16c74629-c2c2-46ed-8106-530167c5225c",
   "metadata": {},
   "outputs": [
    {
     "data": {
      "text/plain": [
       "Eigen{Float64, Float64, Matrix{Float64}, Vector{Float64}}\n",
       "values:\n",
       "5-element Vector{Float64}:\n",
       " -1.5708912927995462\n",
       " -1.8891607273317712e-6\n",
       "  7.640623629540836e-7\n",
       "  2.0243612650335747e-6\n",
       "  1.57089039353665\n",
       "vectors:\n",
       "5×5 Matrix{Float64}:\n",
       " 0.000180437  -0.689047      0.306651      0.656643     4.63813e-5\n",
       " 0.000374214  -0.68147       0.0341524    -0.731049     9.61922e-5\n",
       " 0.000663598  -0.246602     -0.951209      0.185441     0.000170579\n",
       " 0.707107      0.000285257   0.000295826   1.68258e-5  -0.707107\n",
       " 0.707107      0.000482647   0.000500531   2.8469e-5    0.707107"
      ]
     },
     "execution_count": 3,
     "metadata": {},
     "output_type": "execute_result"
    }
   ],
   "source": [
    "t = randexp(5) |> sort\n",
    "f = rand(5)\n",
    "\n",
    "function valuation(x; t=t, f=f)\n",
    "    m = length(x)\n",
    "    return sum(x[i] * t[i] * f[i] * prod(1 - f[j]*x[j] for j in i+1:m) for i in 1:m-1) + x[m] * t[m] * f[m]\n",
    "end\n",
    "\n",
    "hessian(valuation, [0, 1, 0, 1, 1]) |> eigen"
   ]
  },
  {
   "cell_type": "code",
   "execution_count": 5,
   "id": "5bfab3df-95e4-4629-9422-9febde8dcfcd",
   "metadata": {},
   "outputs": [
    {
     "data": {
      "text/plain": [
       "5-element Vector{Float64}:\n",
       " 0.0009414705693620168\n",
       " 0.004138287329998352\n",
       " 0.047109437497880824\n",
       " 0.5048887433368149\n",
       " 1.3524586802833998"
      ]
     },
     "execution_count": 5,
     "metadata": {},
     "output_type": "execute_result"
    }
   ],
   "source": [
    "gradient(f->valuation([1, 1, 1, 1, 1], f=f), rand(5))"
   ]
  },
  {
   "cell_type": "code",
   "execution_count": null,
   "id": "f9d532aa-4006-4b14-8e1d-ac6f5ad80e61",
   "metadata": {},
   "outputs": [],
   "source": []
  }
 ],
 "metadata": {
  "kernelspec": {
   "display_name": "Julia 1.7.0",
   "language": "julia",
   "name": "julia-1.7"
  },
  "language_info": {
   "file_extension": ".jl",
   "mimetype": "application/julia",
   "name": "julia",
   "version": "1.7.0"
  }
 },
 "nbformat": 4,
 "nbformat_minor": 5
}
