{
 "cells": [
  {
   "cell_type": "code",
   "execution_count": 101,
   "id": "cb44317f-6742-4955-8c15-ce0c0bbe2120",
   "metadata": {},
   "outputs": [],
   "source": [
    "using JuMP, Ipopt\n",
    "using LinearAlgebra\n",
    "using Combinatorics: combinations\n",
    "using ForwardDiff: gradient, hessian\n",
    "using Random"
   ]
  },
  {
   "cell_type": "code",
   "execution_count": 94,
   "id": "128f1c0a-b4ee-4a86-8b35-7e1852a7583a",
   "metadata": {},
   "outputs": [
    {
     "data": {
      "text/plain": [
       "5-element Vector{Vector{Int64}}:\n",
       " [1, 2]\n",
       " [1, 3]\n",
       " [1, 4]\n",
       " [2, 3]\n",
       " [2, 4]"
      ]
     },
     "metadata": {},
     "output_type": "display_data"
    },
    {
     "data": {
      "text/plain": [
       "3-element Vector{Vector{Int64}}:\n",
       " [1, 2, 4]\n",
       " [1, 3, 4]\n",
       " [2, 3, 4]"
      ]
     },
     "metadata": {},
     "output_type": "display_data"
    }
   ],
   "source": [
    "TwoBundles = collect(combinations(1:4, 2))\n",
    "ThrBundles = collect(combinations(1:4, 3))\n",
    "\n",
    "TwoOpt = [3, 4]\n",
    "ThrOpt = [1, 2, 3]\n",
    "\n",
    "setdiff!(TwoBundles, [TwoOpt])\n",
    "setdiff!(ThrBundles, [ThrOpt])\n",
    "\n",
    "display(TwoBundles)\n",
    "display(ThrBundles)"
   ]
  },
  {
   "cell_type": "code",
   "execution_count": 92,
   "id": "657e9557-00f5-4ee5-b432-56c246fe408b",
   "metadata": {},
   "outputs": [
    {
     "data": {
      "text/plain": [
       "LOCALLY_INFEASIBLE::TerminationStatusCode = 5"
      ]
     },
     "execution_count": 92,
     "metadata": {},
     "output_type": "execute_result"
    }
   ],
   "source": [
    "mod = Model(Ipopt.Optimizer)\n",
    "set_silent(mod)\n",
    "\n",
    "@variable(mod, t[1:4] ≥ 0)\n",
    "@variable(mod, 0 ≤ f[1:4] ≤ 1)\n",
    "\n",
    "@constraint(mod, Sortedness[j in 1:3], t[j] ≤ t[j+1])\n",
    "\n",
    "ε = 0.001\n",
    "\n",
    "h = 2\n",
    "@NLconstraint(mod, TwoOptCon[l in 1:length(TwoBundles)],\n",
    "    sum(t[TwoOpt[i]] * f[TwoOpt[i]] * prod(1 - f[TwoOpt[j]] for j in i+1:h) for i in 1:h-1) + t[TwoOpt[end]] * f[TwoOpt[end]] - ε ≥\n",
    "    sum(t[TwoBundles[l][i]] * f[TwoBundles[l][i]] * prod(1 - f[TwoBundles[l][j]] for j in i+1:h) for i in 1:h-1) + t[TwoBundles[l][end]] * f[TwoBundles[l][end]]\n",
    ")\n",
    "    \n",
    "h = 3\n",
    "@NLconstraint(mod, ThrOptCon[l in 1:length(ThrBundles)],\n",
    "    sum(t[ThrOpt[i]] * f[ThrOpt[i]] * prod(1 - f[ThrOpt[j]] for j in i+1:h) for i in 1:h-1) + t[ThrOpt[end]] * f[ThrOpt[end]] - ε ≥\n",
    "    sum(t[ThrBundles[l][i]] * f[ThrBundles[l][i]] * prod(1 - f[ThrBundles[l][j]] for j in i+1:h) for i in 1:h-1) + t[ThrBundles[l][end]] * f[ThrBundles[l][end]]\n",
    ")\n",
    "\n",
    "optimize!(mod)\n",
    "termination_status(mod)"
   ]
  },
  {
   "cell_type": "code",
   "execution_count": 69,
   "id": "599c83f7-aaed-4858-9815-f69b511d7fe8",
   "metadata": {},
   "outputs": [
    {
     "data": {
      "text/plain": [
       "Dict{Any, Float64} with 1 entry:\n",
       "  ((t[1] * f[1] * ((1.0 - f[3]) * (1.0 - f[4])) + t[3] * f[3] * … => 3.42728e-10"
      ]
     },
     "execution_count": 69,
     "metadata": {},
     "output_type": "execute_result"
    }
   ],
   "source": [
    "primal_feasibility_report(mod)"
   ]
  },
  {
   "cell_type": "code",
   "execution_count": 64,
   "id": "1a72890d-fc97-452c-8e6c-0c98a3420492",
   "metadata": {},
   "outputs": [
    {
     "name": "stdout",
     "output_type": "stream",
     "text": [
      "[2.9962542114803625, 4.315146043300834, 5.334970409723789, 9.707365021388634]\n",
      "[0.8782556903051538, 0.3057100995525, 0.1903886995899347, 0.06853687639185227]\n"
     ]
    }
   ],
   "source": [
    "value.(t) |> println\n",
    "value.(f) |> println"
   ]
  },
  {
   "cell_type": "code",
   "execution_count": 112,
   "id": "16c74629-c2c2-46ed-8106-530167c5225c",
   "metadata": {},
   "outputs": [
    {
     "data": {
      "text/plain": [
       "Eigen{Float64, Float64, Matrix{Float64}, Vector{Float64}}\n",
       "values:\n",
       "5-element Vector{Float64}:\n",
       " -0.6203265849350809\n",
       " -6.793801715188064e-5\n",
       "  0.011757297401161937\n",
       "  0.024919951011714625\n",
       "  0.5837172745393578\n",
       "vectors:\n",
       "5×5 Matrix{Float64}:\n",
       " -0.0180513   0.993189     0.107049  -0.0403568    0.0126785\n",
       " -0.276346    0.0836279   -0.573324   0.732323     0.227247\n",
       " -0.267013    0.0345161   -0.647114  -0.679051     0.218282\n",
       " -0.695493   -0.00864249   0.046988  -0.00220121  -0.71694\n",
       " -0.606878   -0.0729043    0.488749  -0.0309784    0.62173"
      ]
     },
     "execution_count": 112,
     "metadata": {},
     "output_type": "execute_result"
    }
   ],
   "source": [
    "t = randexp(5) |> sort\n",
    "f = rand(5)\n",
    "\n",
    "function valuation(x; t=t, f=f)\n",
    "    m = length(x)\n",
    "    return sum(x[i] * t[i] * f[i] * prod(1 - f[j]*x[j] for j in i+1:m) for i in 1:m-1) + x[m] * t[m] * f[m]\n",
    "end\n",
    "\n",
    "hessian(valuation, [0, 1, 0, 1, 1]) |> eigen"
   ]
  }
 ],
 "metadata": {
  "kernelspec": {
   "display_name": "Julia 1.7.0",
   "language": "julia",
   "name": "julia-1.7"
  },
  "language_info": {
   "file_extension": ".jl",
   "mimetype": "application/julia",
   "name": "julia",
   "version": "1.7.0"
  }
 },
 "nbformat": 4,
 "nbformat_minor": 5
}
